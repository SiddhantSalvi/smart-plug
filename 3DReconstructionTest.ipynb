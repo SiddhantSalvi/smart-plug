{
  "nbformat": 4,
  "nbformat_minor": 0,
  "metadata": {
    "colab": {
      "name": "3DReconstructionTest.ipynb",
      "provenance": [],
      "collapsed_sections": [],
      "include_colab_link": true
    },
    "kernelspec": {
      "name": "python3",
      "display_name": "Python 3"
    },
    "language_info": {
      "name": "python"
    },
    "accelerator": "GPU",
    "widgets": {
      "application/vnd.jupyter.widget-state+json": {
        "3894fb3845da41a990e28317673c69ab": {
          "model_module": "@jupyter-widgets/controls",
          "model_name": "HBoxModel",
          "model_module_version": "1.5.0",
          "state": {
            "_view_name": "HBoxView",
            "_dom_classes": [],
            "_model_name": "HBoxModel",
            "_view_module": "@jupyter-widgets/controls",
            "_model_module_version": "1.5.0",
            "_view_count": null,
            "_view_module_version": "1.5.0",
            "box_style": "",
            "layout": "IPY_MODEL_2b99703bec7246969787b618d8efe2ca",
            "_model_module": "@jupyter-widgets/controls",
            "children": [
              "IPY_MODEL_84cf39a2ef45430ba1f7a037d739cf59",
              "IPY_MODEL_f4e837aae7384bbbbeb495ca6842bb9f",
              "IPY_MODEL_4c0156c400654173b726778924cb7809"
            ]
          }
        },
        "2b99703bec7246969787b618d8efe2ca": {
          "model_module": "@jupyter-widgets/base",
          "model_name": "LayoutModel",
          "model_module_version": "1.2.0",
          "state": {
            "_view_name": "LayoutView",
            "grid_template_rows": null,
            "right": null,
            "justify_content": null,
            "_view_module": "@jupyter-widgets/base",
            "overflow": null,
            "_model_module_version": "1.2.0",
            "_view_count": null,
            "flex_flow": null,
            "width": null,
            "min_width": null,
            "border": null,
            "align_items": null,
            "bottom": null,
            "_model_module": "@jupyter-widgets/base",
            "top": null,
            "grid_column": null,
            "overflow_y": null,
            "overflow_x": null,
            "grid_auto_flow": null,
            "grid_area": null,
            "grid_template_columns": null,
            "flex": null,
            "_model_name": "LayoutModel",
            "justify_items": null,
            "grid_row": null,
            "max_height": null,
            "align_content": null,
            "visibility": null,
            "align_self": null,
            "height": null,
            "min_height": null,
            "padding": null,
            "grid_auto_rows": null,
            "grid_gap": null,
            "max_width": null,
            "order": null,
            "_view_module_version": "1.2.0",
            "grid_template_areas": null,
            "object_position": null,
            "object_fit": null,
            "grid_auto_columns": null,
            "margin": null,
            "display": null,
            "left": null
          }
        },
        "84cf39a2ef45430ba1f7a037d739cf59": {
          "model_module": "@jupyter-widgets/controls",
          "model_name": "HTMLModel",
          "model_module_version": "1.5.0",
          "state": {
            "_view_name": "HTMLView",
            "style": "IPY_MODEL_5f297660e45a46bfa4a4cd6d4034c9c1",
            "_dom_classes": [],
            "description": "",
            "_model_name": "HTMLModel",
            "placeholder": "​",
            "_view_module": "@jupyter-widgets/controls",
            "_model_module_version": "1.5.0",
            "value": "100%",
            "_view_count": null,
            "_view_module_version": "1.5.0",
            "description_tooltip": null,
            "_model_module": "@jupyter-widgets/controls",
            "layout": "IPY_MODEL_9182c1f779c6449d9c7b6ffa24989bd8"
          }
        },
        "f4e837aae7384bbbbeb495ca6842bb9f": {
          "model_module": "@jupyter-widgets/controls",
          "model_name": "FloatProgressModel",
          "model_module_version": "1.5.0",
          "state": {
            "_view_name": "ProgressView",
            "style": "IPY_MODEL_687f9af03551468da7ebd324c3d247df",
            "_dom_classes": [],
            "description": "",
            "_model_name": "FloatProgressModel",
            "bar_style": "success",
            "max": 90,
            "_view_module": "@jupyter-widgets/controls",
            "_model_module_version": "1.5.0",
            "value": 90,
            "_view_count": null,
            "_view_module_version": "1.5.0",
            "orientation": "horizontal",
            "min": 0,
            "description_tooltip": null,
            "_model_module": "@jupyter-widgets/controls",
            "layout": "IPY_MODEL_09039dbec92645a6b204021d5e49d383"
          }
        },
        "4c0156c400654173b726778924cb7809": {
          "model_module": "@jupyter-widgets/controls",
          "model_name": "HTMLModel",
          "model_module_version": "1.5.0",
          "state": {
            "_view_name": "HTMLView",
            "style": "IPY_MODEL_99362a7083874938a1826e8abfb3d93d",
            "_dom_classes": [],
            "description": "",
            "_model_name": "HTMLModel",
            "placeholder": "​",
            "_view_module": "@jupyter-widgets/controls",
            "_model_module_version": "1.5.0",
            "value": " 90/90 [00:11&lt;00:00,  7.95it/s]",
            "_view_count": null,
            "_view_module_version": "1.5.0",
            "description_tooltip": null,
            "_model_module": "@jupyter-widgets/controls",
            "layout": "IPY_MODEL_b92053d3a00b443cace241d128b5c193"
          }
        },
        "5f297660e45a46bfa4a4cd6d4034c9c1": {
          "model_module": "@jupyter-widgets/controls",
          "model_name": "DescriptionStyleModel",
          "model_module_version": "1.5.0",
          "state": {
            "_view_name": "StyleView",
            "_model_name": "DescriptionStyleModel",
            "description_width": "",
            "_view_module": "@jupyter-widgets/base",
            "_model_module_version": "1.5.0",
            "_view_count": null,
            "_view_module_version": "1.2.0",
            "_model_module": "@jupyter-widgets/controls"
          }
        },
        "9182c1f779c6449d9c7b6ffa24989bd8": {
          "model_module": "@jupyter-widgets/base",
          "model_name": "LayoutModel",
          "model_module_version": "1.2.0",
          "state": {
            "_view_name": "LayoutView",
            "grid_template_rows": null,
            "right": null,
            "justify_content": null,
            "_view_module": "@jupyter-widgets/base",
            "overflow": null,
            "_model_module_version": "1.2.0",
            "_view_count": null,
            "flex_flow": null,
            "width": null,
            "min_width": null,
            "border": null,
            "align_items": null,
            "bottom": null,
            "_model_module": "@jupyter-widgets/base",
            "top": null,
            "grid_column": null,
            "overflow_y": null,
            "overflow_x": null,
            "grid_auto_flow": null,
            "grid_area": null,
            "grid_template_columns": null,
            "flex": null,
            "_model_name": "LayoutModel",
            "justify_items": null,
            "grid_row": null,
            "max_height": null,
            "align_content": null,
            "visibility": null,
            "align_self": null,
            "height": null,
            "min_height": null,
            "padding": null,
            "grid_auto_rows": null,
            "grid_gap": null,
            "max_width": null,
            "order": null,
            "_view_module_version": "1.2.0",
            "grid_template_areas": null,
            "object_position": null,
            "object_fit": null,
            "grid_auto_columns": null,
            "margin": null,
            "display": null,
            "left": null
          }
        },
        "687f9af03551468da7ebd324c3d247df": {
          "model_module": "@jupyter-widgets/controls",
          "model_name": "ProgressStyleModel",
          "model_module_version": "1.5.0",
          "state": {
            "_view_name": "StyleView",
            "_model_name": "ProgressStyleModel",
            "description_width": "",
            "_view_module": "@jupyter-widgets/base",
            "_model_module_version": "1.5.0",
            "_view_count": null,
            "_view_module_version": "1.2.0",
            "bar_color": null,
            "_model_module": "@jupyter-widgets/controls"
          }
        },
        "09039dbec92645a6b204021d5e49d383": {
          "model_module": "@jupyter-widgets/base",
          "model_name": "LayoutModel",
          "model_module_version": "1.2.0",
          "state": {
            "_view_name": "LayoutView",
            "grid_template_rows": null,
            "right": null,
            "justify_content": null,
            "_view_module": "@jupyter-widgets/base",
            "overflow": null,
            "_model_module_version": "1.2.0",
            "_view_count": null,
            "flex_flow": null,
            "width": null,
            "min_width": null,
            "border": null,
            "align_items": null,
            "bottom": null,
            "_model_module": "@jupyter-widgets/base",
            "top": null,
            "grid_column": null,
            "overflow_y": null,
            "overflow_x": null,
            "grid_auto_flow": null,
            "grid_area": null,
            "grid_template_columns": null,
            "flex": null,
            "_model_name": "LayoutModel",
            "justify_items": null,
            "grid_row": null,
            "max_height": null,
            "align_content": null,
            "visibility": null,
            "align_self": null,
            "height": null,
            "min_height": null,
            "padding": null,
            "grid_auto_rows": null,
            "grid_gap": null,
            "max_width": null,
            "order": null,
            "_view_module_version": "1.2.0",
            "grid_template_areas": null,
            "object_position": null,
            "object_fit": null,
            "grid_auto_columns": null,
            "margin": null,
            "display": null,
            "left": null
          }
        },
        "99362a7083874938a1826e8abfb3d93d": {
          "model_module": "@jupyter-widgets/controls",
          "model_name": "DescriptionStyleModel",
          "model_module_version": "1.5.0",
          "state": {
            "_view_name": "StyleView",
            "_model_name": "DescriptionStyleModel",
            "description_width": "",
            "_view_module": "@jupyter-widgets/base",
            "_model_module_version": "1.5.0",
            "_view_count": null,
            "_view_module_version": "1.2.0",
            "_model_module": "@jupyter-widgets/controls"
          }
        },
        "b92053d3a00b443cace241d128b5c193": {
          "model_module": "@jupyter-widgets/base",
          "model_name": "LayoutModel",
          "model_module_version": "1.2.0",
          "state": {
            "_view_name": "LayoutView",
            "grid_template_rows": null,
            "right": null,
            "justify_content": null,
            "_view_module": "@jupyter-widgets/base",
            "overflow": null,
            "_model_module_version": "1.2.0",
            "_view_count": null,
            "flex_flow": null,
            "width": null,
            "min_width": null,
            "border": null,
            "align_items": null,
            "bottom": null,
            "_model_module": "@jupyter-widgets/base",
            "top": null,
            "grid_column": null,
            "overflow_y": null,
            "overflow_x": null,
            "grid_auto_flow": null,
            "grid_area": null,
            "grid_template_columns": null,
            "flex": null,
            "_model_name": "LayoutModel",
            "justify_items": null,
            "grid_row": null,
            "max_height": null,
            "align_content": null,
            "visibility": null,
            "align_self": null,
            "height": null,
            "min_height": null,
            "padding": null,
            "grid_auto_rows": null,
            "grid_gap": null,
            "max_width": null,
            "order": null,
            "_view_module_version": "1.2.0",
            "grid_template_areas": null,
            "object_position": null,
            "object_fit": null,
            "grid_auto_columns": null,
            "margin": null,
            "display": null,
            "left": null
          }
        },
        "ccf98c5b6f484e23b94577e675bf75f8": {
          "model_module": "@jupyter-widgets/controls",
          "model_name": "HBoxModel",
          "model_module_version": "1.5.0",
          "state": {
            "_view_name": "HBoxView",
            "_dom_classes": [],
            "_model_name": "HBoxModel",
            "_view_module": "@jupyter-widgets/controls",
            "_model_module_version": "1.5.0",
            "_view_count": null,
            "_view_module_version": "1.5.0",
            "box_style": "",
            "layout": "IPY_MODEL_d4487defe936461f82d945b830bd1f1f",
            "_model_module": "@jupyter-widgets/controls",
            "children": [
              "IPY_MODEL_26c27ddf630e481e8a9fd2ce7c84a0eb",
              "IPY_MODEL_1171f822dd7143d283ad44556cfa99b4",
              "IPY_MODEL_6e2be245c4ac41c5a04cb0d5775b8bcb"
            ]
          }
        },
        "d4487defe936461f82d945b830bd1f1f": {
          "model_module": "@jupyter-widgets/base",
          "model_name": "LayoutModel",
          "model_module_version": "1.2.0",
          "state": {
            "_view_name": "LayoutView",
            "grid_template_rows": null,
            "right": null,
            "justify_content": null,
            "_view_module": "@jupyter-widgets/base",
            "overflow": null,
            "_model_module_version": "1.2.0",
            "_view_count": null,
            "flex_flow": null,
            "width": null,
            "min_width": null,
            "border": null,
            "align_items": null,
            "bottom": null,
            "_model_module": "@jupyter-widgets/base",
            "top": null,
            "grid_column": null,
            "overflow_y": null,
            "overflow_x": null,
            "grid_auto_flow": null,
            "grid_area": null,
            "grid_template_columns": null,
            "flex": null,
            "_model_name": "LayoutModel",
            "justify_items": null,
            "grid_row": null,
            "max_height": null,
            "align_content": null,
            "visibility": null,
            "align_self": null,
            "height": null,
            "min_height": null,
            "padding": null,
            "grid_auto_rows": null,
            "grid_gap": null,
            "max_width": null,
            "order": null,
            "_view_module_version": "1.2.0",
            "grid_template_areas": null,
            "object_position": null,
            "object_fit": null,
            "grid_auto_columns": null,
            "margin": null,
            "display": null,
            "left": null
          }
        },
        "26c27ddf630e481e8a9fd2ce7c84a0eb": {
          "model_module": "@jupyter-widgets/controls",
          "model_name": "HTMLModel",
          "model_module_version": "1.5.0",
          "state": {
            "_view_name": "HTMLView",
            "style": "IPY_MODEL_4680d85125e740d182ea6163b86f9452",
            "_dom_classes": [],
            "description": "",
            "_model_name": "HTMLModel",
            "placeholder": "​",
            "_view_module": "@jupyter-widgets/controls",
            "_model_module_version": "1.5.0",
            "value": "100%",
            "_view_count": null,
            "_view_module_version": "1.5.0",
            "description_tooltip": null,
            "_model_module": "@jupyter-widgets/controls",
            "layout": "IPY_MODEL_6374a1c01d7e4b1aa9f79663cfbadbb0"
          }
        },
        "1171f822dd7143d283ad44556cfa99b4": {
          "model_module": "@jupyter-widgets/controls",
          "model_name": "FloatProgressModel",
          "model_module_version": "1.5.0",
          "state": {
            "_view_name": "ProgressView",
            "style": "IPY_MODEL_8b0b8e5a07ea472ba26d7db48b492158",
            "_dom_classes": [],
            "description": "",
            "_model_name": "FloatProgressModel",
            "bar_style": "success",
            "max": 90,
            "_view_module": "@jupyter-widgets/controls",
            "_model_module_version": "1.5.0",
            "value": 90,
            "_view_count": null,
            "_view_module_version": "1.5.0",
            "orientation": "horizontal",
            "min": 0,
            "description_tooltip": null,
            "_model_module": "@jupyter-widgets/controls",
            "layout": "IPY_MODEL_49fda567844b475796e9e11dcf4f45ec"
          }
        },
        "6e2be245c4ac41c5a04cb0d5775b8bcb": {
          "model_module": "@jupyter-widgets/controls",
          "model_name": "HTMLModel",
          "model_module_version": "1.5.0",
          "state": {
            "_view_name": "HTMLView",
            "style": "IPY_MODEL_fcaa0eb16c1b4cf4b2dccd7859aeb970",
            "_dom_classes": [],
            "description": "",
            "_model_name": "HTMLModel",
            "placeholder": "​",
            "_view_module": "@jupyter-widgets/controls",
            "_model_module_version": "1.5.0",
            "value": " 90/90 [00:08&lt;00:00, 10.15it/s]",
            "_view_count": null,
            "_view_module_version": "1.5.0",
            "description_tooltip": null,
            "_model_module": "@jupyter-widgets/controls",
            "layout": "IPY_MODEL_7561e297662e4f6dacfc8165e176349c"
          }
        },
        "4680d85125e740d182ea6163b86f9452": {
          "model_module": "@jupyter-widgets/controls",
          "model_name": "DescriptionStyleModel",
          "model_module_version": "1.5.0",
          "state": {
            "_view_name": "StyleView",
            "_model_name": "DescriptionStyleModel",
            "description_width": "",
            "_view_module": "@jupyter-widgets/base",
            "_model_module_version": "1.5.0",
            "_view_count": null,
            "_view_module_version": "1.2.0",
            "_model_module": "@jupyter-widgets/controls"
          }
        },
        "6374a1c01d7e4b1aa9f79663cfbadbb0": {
          "model_module": "@jupyter-widgets/base",
          "model_name": "LayoutModel",
          "model_module_version": "1.2.0",
          "state": {
            "_view_name": "LayoutView",
            "grid_template_rows": null,
            "right": null,
            "justify_content": null,
            "_view_module": "@jupyter-widgets/base",
            "overflow": null,
            "_model_module_version": "1.2.0",
            "_view_count": null,
            "flex_flow": null,
            "width": null,
            "min_width": null,
            "border": null,
            "align_items": null,
            "bottom": null,
            "_model_module": "@jupyter-widgets/base",
            "top": null,
            "grid_column": null,
            "overflow_y": null,
            "overflow_x": null,
            "grid_auto_flow": null,
            "grid_area": null,
            "grid_template_columns": null,
            "flex": null,
            "_model_name": "LayoutModel",
            "justify_items": null,
            "grid_row": null,
            "max_height": null,
            "align_content": null,
            "visibility": null,
            "align_self": null,
            "height": null,
            "min_height": null,
            "padding": null,
            "grid_auto_rows": null,
            "grid_gap": null,
            "max_width": null,
            "order": null,
            "_view_module_version": "1.2.0",
            "grid_template_areas": null,
            "object_position": null,
            "object_fit": null,
            "grid_auto_columns": null,
            "margin": null,
            "display": null,
            "left": null
          }
        },
        "8b0b8e5a07ea472ba26d7db48b492158": {
          "model_module": "@jupyter-widgets/controls",
          "model_name": "ProgressStyleModel",
          "model_module_version": "1.5.0",
          "state": {
            "_view_name": "StyleView",
            "_model_name": "ProgressStyleModel",
            "description_width": "",
            "_view_module": "@jupyter-widgets/base",
            "_model_module_version": "1.5.0",
            "_view_count": null,
            "_view_module_version": "1.2.0",
            "bar_color": null,
            "_model_module": "@jupyter-widgets/controls"
          }
        },
        "49fda567844b475796e9e11dcf4f45ec": {
          "model_module": "@jupyter-widgets/base",
          "model_name": "LayoutModel",
          "model_module_version": "1.2.0",
          "state": {
            "_view_name": "LayoutView",
            "grid_template_rows": null,
            "right": null,
            "justify_content": null,
            "_view_module": "@jupyter-widgets/base",
            "overflow": null,
            "_model_module_version": "1.2.0",
            "_view_count": null,
            "flex_flow": null,
            "width": null,
            "min_width": null,
            "border": null,
            "align_items": null,
            "bottom": null,
            "_model_module": "@jupyter-widgets/base",
            "top": null,
            "grid_column": null,
            "overflow_y": null,
            "overflow_x": null,
            "grid_auto_flow": null,
            "grid_area": null,
            "grid_template_columns": null,
            "flex": null,
            "_model_name": "LayoutModel",
            "justify_items": null,
            "grid_row": null,
            "max_height": null,
            "align_content": null,
            "visibility": null,
            "align_self": null,
            "height": null,
            "min_height": null,
            "padding": null,
            "grid_auto_rows": null,
            "grid_gap": null,
            "max_width": null,
            "order": null,
            "_view_module_version": "1.2.0",
            "grid_template_areas": null,
            "object_position": null,
            "object_fit": null,
            "grid_auto_columns": null,
            "margin": null,
            "display": null,
            "left": null
          }
        },
        "fcaa0eb16c1b4cf4b2dccd7859aeb970": {
          "model_module": "@jupyter-widgets/controls",
          "model_name": "DescriptionStyleModel",
          "model_module_version": "1.5.0",
          "state": {
            "_view_name": "StyleView",
            "_model_name": "DescriptionStyleModel",
            "description_width": "",
            "_view_module": "@jupyter-widgets/base",
            "_model_module_version": "1.5.0",
            "_view_count": null,
            "_view_module_version": "1.2.0",
            "_model_module": "@jupyter-widgets/controls"
          }
        },
        "7561e297662e4f6dacfc8165e176349c": {
          "model_module": "@jupyter-widgets/base",
          "model_name": "LayoutModel",
          "model_module_version": "1.2.0",
          "state": {
            "_view_name": "LayoutView",
            "grid_template_rows": null,
            "right": null,
            "justify_content": null,
            "_view_module": "@jupyter-widgets/base",
            "overflow": null,
            "_model_module_version": "1.2.0",
            "_view_count": null,
            "flex_flow": null,
            "width": null,
            "min_width": null,
            "border": null,
            "align_items": null,
            "bottom": null,
            "_model_module": "@jupyter-widgets/base",
            "top": null,
            "grid_column": null,
            "overflow_y": null,
            "overflow_x": null,
            "grid_auto_flow": null,
            "grid_area": null,
            "grid_template_columns": null,
            "flex": null,
            "_model_name": "LayoutModel",
            "justify_items": null,
            "grid_row": null,
            "max_height": null,
            "align_content": null,
            "visibility": null,
            "align_self": null,
            "height": null,
            "min_height": null,
            "padding": null,
            "grid_auto_rows": null,
            "grid_gap": null,
            "max_width": null,
            "order": null,
            "_view_module_version": "1.2.0",
            "grid_template_areas": null,
            "object_position": null,
            "object_fit": null,
            "grid_auto_columns": null,
            "margin": null,
            "display": null,
            "left": null
          }
        },
        "cdeac595494e4ac683bd5529fcd0beac": {
          "model_module": "@jupyter-widgets/controls",
          "model_name": "HBoxModel",
          "model_module_version": "1.5.0",
          "state": {
            "_view_name": "HBoxView",
            "_dom_classes": [],
            "_model_name": "HBoxModel",
            "_view_module": "@jupyter-widgets/controls",
            "_model_module_version": "1.5.0",
            "_view_count": null,
            "_view_module_version": "1.5.0",
            "box_style": "",
            "layout": "IPY_MODEL_927a3055a4e643e4a984a9f71e96e70e",
            "_model_module": "@jupyter-widgets/controls",
            "children": [
              "IPY_MODEL_70e7b4e0972c4846b956e69b136b87e3",
              "IPY_MODEL_becd1b1894ec492e91eba60e09542e65",
              "IPY_MODEL_ae8c37056f694b31817f70e21be973b9"
            ]
          }
        },
        "927a3055a4e643e4a984a9f71e96e70e": {
          "model_module": "@jupyter-widgets/base",
          "model_name": "LayoutModel",
          "model_module_version": "1.2.0",
          "state": {
            "_view_name": "LayoutView",
            "grid_template_rows": null,
            "right": null,
            "justify_content": null,
            "_view_module": "@jupyter-widgets/base",
            "overflow": null,
            "_model_module_version": "1.2.0",
            "_view_count": null,
            "flex_flow": null,
            "width": null,
            "min_width": null,
            "border": null,
            "align_items": null,
            "bottom": null,
            "_model_module": "@jupyter-widgets/base",
            "top": null,
            "grid_column": null,
            "overflow_y": null,
            "overflow_x": null,
            "grid_auto_flow": null,
            "grid_area": null,
            "grid_template_columns": null,
            "flex": null,
            "_model_name": "LayoutModel",
            "justify_items": null,
            "grid_row": null,
            "max_height": null,
            "align_content": null,
            "visibility": null,
            "align_self": null,
            "height": null,
            "min_height": null,
            "padding": null,
            "grid_auto_rows": null,
            "grid_gap": null,
            "max_width": null,
            "order": null,
            "_view_module_version": "1.2.0",
            "grid_template_areas": null,
            "object_position": null,
            "object_fit": null,
            "grid_auto_columns": null,
            "margin": null,
            "display": null,
            "left": null
          }
        },
        "70e7b4e0972c4846b956e69b136b87e3": {
          "model_module": "@jupyter-widgets/controls",
          "model_name": "HTMLModel",
          "model_module_version": "1.5.0",
          "state": {
            "_view_name": "HTMLView",
            "style": "IPY_MODEL_6dcf3041efd84fa0852c4fe4b1046ff1",
            "_dom_classes": [],
            "description": "",
            "_model_name": "HTMLModel",
            "placeholder": "​",
            "_view_module": "@jupyter-widgets/controls",
            "_model_module_version": "1.5.0",
            "value": "100%",
            "_view_count": null,
            "_view_module_version": "1.5.0",
            "description_tooltip": null,
            "_model_module": "@jupyter-widgets/controls",
            "layout": "IPY_MODEL_25322ffd5a9f4274b26813ba93326357"
          }
        },
        "becd1b1894ec492e91eba60e09542e65": {
          "model_module": "@jupyter-widgets/controls",
          "model_name": "FloatProgressModel",
          "model_module_version": "1.5.0",
          "state": {
            "_view_name": "ProgressView",
            "style": "IPY_MODEL_320172237ba840d5b098f48e0b5e9382",
            "_dom_classes": [],
            "description": "",
            "_model_name": "FloatProgressModel",
            "bar_style": "success",
            "max": 90,
            "_view_module": "@jupyter-widgets/controls",
            "_model_module_version": "1.5.0",
            "value": 90,
            "_view_count": null,
            "_view_module_version": "1.5.0",
            "orientation": "horizontal",
            "min": 0,
            "description_tooltip": null,
            "_model_module": "@jupyter-widgets/controls",
            "layout": "IPY_MODEL_d669cb4755ba4f389fb4712681b1c7bd"
          }
        },
        "ae8c37056f694b31817f70e21be973b9": {
          "model_module": "@jupyter-widgets/controls",
          "model_name": "HTMLModel",
          "model_module_version": "1.5.0",
          "state": {
            "_view_name": "HTMLView",
            "style": "IPY_MODEL_96806e2ba8d14005886437e1abef7d19",
            "_dom_classes": [],
            "description": "",
            "_model_name": "HTMLModel",
            "placeholder": "​",
            "_view_module": "@jupyter-widgets/controls",
            "_model_module_version": "1.5.0",
            "value": " 90/90 [00:08&lt;00:00, 11.74it/s]",
            "_view_count": null,
            "_view_module_version": "1.5.0",
            "description_tooltip": null,
            "_model_module": "@jupyter-widgets/controls",
            "layout": "IPY_MODEL_02d64d74ab7141fc988c237c57498a70"
          }
        },
        "6dcf3041efd84fa0852c4fe4b1046ff1": {
          "model_module": "@jupyter-widgets/controls",
          "model_name": "DescriptionStyleModel",
          "model_module_version": "1.5.0",
          "state": {
            "_view_name": "StyleView",
            "_model_name": "DescriptionStyleModel",
            "description_width": "",
            "_view_module": "@jupyter-widgets/base",
            "_model_module_version": "1.5.0",
            "_view_count": null,
            "_view_module_version": "1.2.0",
            "_model_module": "@jupyter-widgets/controls"
          }
        },
        "25322ffd5a9f4274b26813ba93326357": {
          "model_module": "@jupyter-widgets/base",
          "model_name": "LayoutModel",
          "model_module_version": "1.2.0",
          "state": {
            "_view_name": "LayoutView",
            "grid_template_rows": null,
            "right": null,
            "justify_content": null,
            "_view_module": "@jupyter-widgets/base",
            "overflow": null,
            "_model_module_version": "1.2.0",
            "_view_count": null,
            "flex_flow": null,
            "width": null,
            "min_width": null,
            "border": null,
            "align_items": null,
            "bottom": null,
            "_model_module": "@jupyter-widgets/base",
            "top": null,
            "grid_column": null,
            "overflow_y": null,
            "overflow_x": null,
            "grid_auto_flow": null,
            "grid_area": null,
            "grid_template_columns": null,
            "flex": null,
            "_model_name": "LayoutModel",
            "justify_items": null,
            "grid_row": null,
            "max_height": null,
            "align_content": null,
            "visibility": null,
            "align_self": null,
            "height": null,
            "min_height": null,
            "padding": null,
            "grid_auto_rows": null,
            "grid_gap": null,
            "max_width": null,
            "order": null,
            "_view_module_version": "1.2.0",
            "grid_template_areas": null,
            "object_position": null,
            "object_fit": null,
            "grid_auto_columns": null,
            "margin": null,
            "display": null,
            "left": null
          }
        },
        "320172237ba840d5b098f48e0b5e9382": {
          "model_module": "@jupyter-widgets/controls",
          "model_name": "ProgressStyleModel",
          "model_module_version": "1.5.0",
          "state": {
            "_view_name": "StyleView",
            "_model_name": "ProgressStyleModel",
            "description_width": "",
            "_view_module": "@jupyter-widgets/base",
            "_model_module_version": "1.5.0",
            "_view_count": null,
            "_view_module_version": "1.2.0",
            "bar_color": null,
            "_model_module": "@jupyter-widgets/controls"
          }
        },
        "d669cb4755ba4f389fb4712681b1c7bd": {
          "model_module": "@jupyter-widgets/base",
          "model_name": "LayoutModel",
          "model_module_version": "1.2.0",
          "state": {
            "_view_name": "LayoutView",
            "grid_template_rows": null,
            "right": null,
            "justify_content": null,
            "_view_module": "@jupyter-widgets/base",
            "overflow": null,
            "_model_module_version": "1.2.0",
            "_view_count": null,
            "flex_flow": null,
            "width": null,
            "min_width": null,
            "border": null,
            "align_items": null,
            "bottom": null,
            "_model_module": "@jupyter-widgets/base",
            "top": null,
            "grid_column": null,
            "overflow_y": null,
            "overflow_x": null,
            "grid_auto_flow": null,
            "grid_area": null,
            "grid_template_columns": null,
            "flex": null,
            "_model_name": "LayoutModel",
            "justify_items": null,
            "grid_row": null,
            "max_height": null,
            "align_content": null,
            "visibility": null,
            "align_self": null,
            "height": null,
            "min_height": null,
            "padding": null,
            "grid_auto_rows": null,
            "grid_gap": null,
            "max_width": null,
            "order": null,
            "_view_module_version": "1.2.0",
            "grid_template_areas": null,
            "object_position": null,
            "object_fit": null,
            "grid_auto_columns": null,
            "margin": null,
            "display": null,
            "left": null
          }
        },
        "96806e2ba8d14005886437e1abef7d19": {
          "model_module": "@jupyter-widgets/controls",
          "model_name": "DescriptionStyleModel",
          "model_module_version": "1.5.0",
          "state": {
            "_view_name": "StyleView",
            "_model_name": "DescriptionStyleModel",
            "description_width": "",
            "_view_module": "@jupyter-widgets/base",
            "_model_module_version": "1.5.0",
            "_view_count": null,
            "_view_module_version": "1.2.0",
            "_model_module": "@jupyter-widgets/controls"
          }
        },
        "02d64d74ab7141fc988c237c57498a70": {
          "model_module": "@jupyter-widgets/base",
          "model_name": "LayoutModel",
          "model_module_version": "1.2.0",
          "state": {
            "_view_name": "LayoutView",
            "grid_template_rows": null,
            "right": null,
            "justify_content": null,
            "_view_module": "@jupyter-widgets/base",
            "overflow": null,
            "_model_module_version": "1.2.0",
            "_view_count": null,
            "flex_flow": null,
            "width": null,
            "min_width": null,
            "border": null,
            "align_items": null,
            "bottom": null,
            "_model_module": "@jupyter-widgets/base",
            "top": null,
            "grid_column": null,
            "overflow_y": null,
            "overflow_x": null,
            "grid_auto_flow": null,
            "grid_area": null,
            "grid_template_columns": null,
            "flex": null,
            "_model_name": "LayoutModel",
            "justify_items": null,
            "grid_row": null,
            "max_height": null,
            "align_content": null,
            "visibility": null,
            "align_self": null,
            "height": null,
            "min_height": null,
            "padding": null,
            "grid_auto_rows": null,
            "grid_gap": null,
            "max_width": null,
            "order": null,
            "_view_module_version": "1.2.0",
            "grid_template_areas": null,
            "object_position": null,
            "object_fit": null,
            "grid_auto_columns": null,
            "margin": null,
            "display": null,
            "left": null
          }
        },
        "fa86a61cba26491ca1aef45a0649902e": {
          "model_module": "@jupyter-widgets/controls",
          "model_name": "HBoxModel",
          "model_module_version": "1.5.0",
          "state": {
            "_view_name": "HBoxView",
            "_dom_classes": [],
            "_model_name": "HBoxModel",
            "_view_module": "@jupyter-widgets/controls",
            "_model_module_version": "1.5.0",
            "_view_count": null,
            "_view_module_version": "1.5.0",
            "box_style": "",
            "layout": "IPY_MODEL_8510bfd44fcf4c45944b2285209c0d5c",
            "_model_module": "@jupyter-widgets/controls",
            "children": [
              "IPY_MODEL_a87d60428a7b4a93bda49b6ff6a33e1b",
              "IPY_MODEL_7447e9e51c534ea185828bda09aae86a",
              "IPY_MODEL_dca211cb54f948eca2d26e1c67ae1b60"
            ]
          }
        },
        "8510bfd44fcf4c45944b2285209c0d5c": {
          "model_module": "@jupyter-widgets/base",
          "model_name": "LayoutModel",
          "model_module_version": "1.2.0",
          "state": {
            "_view_name": "LayoutView",
            "grid_template_rows": null,
            "right": null,
            "justify_content": null,
            "_view_module": "@jupyter-widgets/base",
            "overflow": null,
            "_model_module_version": "1.2.0",
            "_view_count": null,
            "flex_flow": null,
            "width": null,
            "min_width": null,
            "border": null,
            "align_items": null,
            "bottom": null,
            "_model_module": "@jupyter-widgets/base",
            "top": null,
            "grid_column": null,
            "overflow_y": null,
            "overflow_x": null,
            "grid_auto_flow": null,
            "grid_area": null,
            "grid_template_columns": null,
            "flex": null,
            "_model_name": "LayoutModel",
            "justify_items": null,
            "grid_row": null,
            "max_height": null,
            "align_content": null,
            "visibility": null,
            "align_self": null,
            "height": null,
            "min_height": null,
            "padding": null,
            "grid_auto_rows": null,
            "grid_gap": null,
            "max_width": null,
            "order": null,
            "_view_module_version": "1.2.0",
            "grid_template_areas": null,
            "object_position": null,
            "object_fit": null,
            "grid_auto_columns": null,
            "margin": null,
            "display": null,
            "left": null
          }
        },
        "a87d60428a7b4a93bda49b6ff6a33e1b": {
          "model_module": "@jupyter-widgets/controls",
          "model_name": "HTMLModel",
          "model_module_version": "1.5.0",
          "state": {
            "_view_name": "HTMLView",
            "style": "IPY_MODEL_eacd4a4cbaba46c2993ea10239560523",
            "_dom_classes": [],
            "description": "",
            "_model_name": "HTMLModel",
            "placeholder": "​",
            "_view_module": "@jupyter-widgets/controls",
            "_model_module_version": "1.5.0",
            "value": "100%",
            "_view_count": null,
            "_view_module_version": "1.5.0",
            "description_tooltip": null,
            "_model_module": "@jupyter-widgets/controls",
            "layout": "IPY_MODEL_7f4633dfd8c24fae851b9a098e1d3b4e"
          }
        },
        "7447e9e51c534ea185828bda09aae86a": {
          "model_module": "@jupyter-widgets/controls",
          "model_name": "FloatProgressModel",
          "model_module_version": "1.5.0",
          "state": {
            "_view_name": "ProgressView",
            "style": "IPY_MODEL_7a189800375e4c08b2f6304322b49938",
            "_dom_classes": [],
            "description": "",
            "_model_name": "FloatProgressModel",
            "bar_style": "success",
            "max": 90,
            "_view_module": "@jupyter-widgets/controls",
            "_model_module_version": "1.5.0",
            "value": 90,
            "_view_count": null,
            "_view_module_version": "1.5.0",
            "orientation": "horizontal",
            "min": 0,
            "description_tooltip": null,
            "_model_module": "@jupyter-widgets/controls",
            "layout": "IPY_MODEL_b504ab94ab5f4a389fb756493b752c09"
          }
        },
        "dca211cb54f948eca2d26e1c67ae1b60": {
          "model_module": "@jupyter-widgets/controls",
          "model_name": "HTMLModel",
          "model_module_version": "1.5.0",
          "state": {
            "_view_name": "HTMLView",
            "style": "IPY_MODEL_d51375d32704441c8338f59600c9ac00",
            "_dom_classes": [],
            "description": "",
            "_model_name": "HTMLModel",
            "placeholder": "​",
            "_view_module": "@jupyter-widgets/controls",
            "_model_module_version": "1.5.0",
            "value": " 90/90 [00:08&lt;00:00, 11.43it/s]",
            "_view_count": null,
            "_view_module_version": "1.5.0",
            "description_tooltip": null,
            "_model_module": "@jupyter-widgets/controls",
            "layout": "IPY_MODEL_b3d0f3a179da4cc3be3dc5f7214b9e06"
          }
        },
        "eacd4a4cbaba46c2993ea10239560523": {
          "model_module": "@jupyter-widgets/controls",
          "model_name": "DescriptionStyleModel",
          "model_module_version": "1.5.0",
          "state": {
            "_view_name": "StyleView",
            "_model_name": "DescriptionStyleModel",
            "description_width": "",
            "_view_module": "@jupyter-widgets/base",
            "_model_module_version": "1.5.0",
            "_view_count": null,
            "_view_module_version": "1.2.0",
            "_model_module": "@jupyter-widgets/controls"
          }
        },
        "7f4633dfd8c24fae851b9a098e1d3b4e": {
          "model_module": "@jupyter-widgets/base",
          "model_name": "LayoutModel",
          "model_module_version": "1.2.0",
          "state": {
            "_view_name": "LayoutView",
            "grid_template_rows": null,
            "right": null,
            "justify_content": null,
            "_view_module": "@jupyter-widgets/base",
            "overflow": null,
            "_model_module_version": "1.2.0",
            "_view_count": null,
            "flex_flow": null,
            "width": null,
            "min_width": null,
            "border": null,
            "align_items": null,
            "bottom": null,
            "_model_module": "@jupyter-widgets/base",
            "top": null,
            "grid_column": null,
            "overflow_y": null,
            "overflow_x": null,
            "grid_auto_flow": null,
            "grid_area": null,
            "grid_template_columns": null,
            "flex": null,
            "_model_name": "LayoutModel",
            "justify_items": null,
            "grid_row": null,
            "max_height": null,
            "align_content": null,
            "visibility": null,
            "align_self": null,
            "height": null,
            "min_height": null,
            "padding": null,
            "grid_auto_rows": null,
            "grid_gap": null,
            "max_width": null,
            "order": null,
            "_view_module_version": "1.2.0",
            "grid_template_areas": null,
            "object_position": null,
            "object_fit": null,
            "grid_auto_columns": null,
            "margin": null,
            "display": null,
            "left": null
          }
        },
        "7a189800375e4c08b2f6304322b49938": {
          "model_module": "@jupyter-widgets/controls",
          "model_name": "ProgressStyleModel",
          "model_module_version": "1.5.0",
          "state": {
            "_view_name": "StyleView",
            "_model_name": "ProgressStyleModel",
            "description_width": "",
            "_view_module": "@jupyter-widgets/base",
            "_model_module_version": "1.5.0",
            "_view_count": null,
            "_view_module_version": "1.2.0",
            "bar_color": null,
            "_model_module": "@jupyter-widgets/controls"
          }
        },
        "b504ab94ab5f4a389fb756493b752c09": {
          "model_module": "@jupyter-widgets/base",
          "model_name": "LayoutModel",
          "model_module_version": "1.2.0",
          "state": {
            "_view_name": "LayoutView",
            "grid_template_rows": null,
            "right": null,
            "justify_content": null,
            "_view_module": "@jupyter-widgets/base",
            "overflow": null,
            "_model_module_version": "1.2.0",
            "_view_count": null,
            "flex_flow": null,
            "width": null,
            "min_width": null,
            "border": null,
            "align_items": null,
            "bottom": null,
            "_model_module": "@jupyter-widgets/base",
            "top": null,
            "grid_column": null,
            "overflow_y": null,
            "overflow_x": null,
            "grid_auto_flow": null,
            "grid_area": null,
            "grid_template_columns": null,
            "flex": null,
            "_model_name": "LayoutModel",
            "justify_items": null,
            "grid_row": null,
            "max_height": null,
            "align_content": null,
            "visibility": null,
            "align_self": null,
            "height": null,
            "min_height": null,
            "padding": null,
            "grid_auto_rows": null,
            "grid_gap": null,
            "max_width": null,
            "order": null,
            "_view_module_version": "1.2.0",
            "grid_template_areas": null,
            "object_position": null,
            "object_fit": null,
            "grid_auto_columns": null,
            "margin": null,
            "display": null,
            "left": null
          }
        },
        "d51375d32704441c8338f59600c9ac00": {
          "model_module": "@jupyter-widgets/controls",
          "model_name": "DescriptionStyleModel",
          "model_module_version": "1.5.0",
          "state": {
            "_view_name": "StyleView",
            "_model_name": "DescriptionStyleModel",
            "description_width": "",
            "_view_module": "@jupyter-widgets/base",
            "_model_module_version": "1.5.0",
            "_view_count": null,
            "_view_module_version": "1.2.0",
            "_model_module": "@jupyter-widgets/controls"
          }
        },
        "b3d0f3a179da4cc3be3dc5f7214b9e06": {
          "model_module": "@jupyter-widgets/base",
          "model_name": "LayoutModel",
          "model_module_version": "1.2.0",
          "state": {
            "_view_name": "LayoutView",
            "grid_template_rows": null,
            "right": null,
            "justify_content": null,
            "_view_module": "@jupyter-widgets/base",
            "overflow": null,
            "_model_module_version": "1.2.0",
            "_view_count": null,
            "flex_flow": null,
            "width": null,
            "min_width": null,
            "border": null,
            "align_items": null,
            "bottom": null,
            "_model_module": "@jupyter-widgets/base",
            "top": null,
            "grid_column": null,
            "overflow_y": null,
            "overflow_x": null,
            "grid_auto_flow": null,
            "grid_area": null,
            "grid_template_columns": null,
            "flex": null,
            "_model_name": "LayoutModel",
            "justify_items": null,
            "grid_row": null,
            "max_height": null,
            "align_content": null,
            "visibility": null,
            "align_self": null,
            "height": null,
            "min_height": null,
            "padding": null,
            "grid_auto_rows": null,
            "grid_gap": null,
            "max_width": null,
            "order": null,
            "_view_module_version": "1.2.0",
            "grid_template_areas": null,
            "object_position": null,
            "object_fit": null,
            "grid_auto_columns": null,
            "margin": null,
            "display": null,
            "left": null
          }
        },
        "2b005f0d1cef41d182ebdefba6681598": {
          "model_module": "@jupyter-widgets/controls",
          "model_name": "HBoxModel",
          "model_module_version": "1.5.0",
          "state": {
            "_view_name": "HBoxView",
            "_dom_classes": [],
            "_model_name": "HBoxModel",
            "_view_module": "@jupyter-widgets/controls",
            "_model_module_version": "1.5.0",
            "_view_count": null,
            "_view_module_version": "1.5.0",
            "box_style": "",
            "layout": "IPY_MODEL_1773763c7e744a4696eb013d3fedf689",
            "_model_module": "@jupyter-widgets/controls",
            "children": [
              "IPY_MODEL_23a930cf49ce49518fc83a7841d6d1ab",
              "IPY_MODEL_b0fa9408a04b4b31bbc7bb16ce48bf5e",
              "IPY_MODEL_27dca351981949e9a91a2d8f4d833d13"
            ]
          }
        },
        "1773763c7e744a4696eb013d3fedf689": {
          "model_module": "@jupyter-widgets/base",
          "model_name": "LayoutModel",
          "model_module_version": "1.2.0",
          "state": {
            "_view_name": "LayoutView",
            "grid_template_rows": null,
            "right": null,
            "justify_content": null,
            "_view_module": "@jupyter-widgets/base",
            "overflow": null,
            "_model_module_version": "1.2.0",
            "_view_count": null,
            "flex_flow": null,
            "width": null,
            "min_width": null,
            "border": null,
            "align_items": null,
            "bottom": null,
            "_model_module": "@jupyter-widgets/base",
            "top": null,
            "grid_column": null,
            "overflow_y": null,
            "overflow_x": null,
            "grid_auto_flow": null,
            "grid_area": null,
            "grid_template_columns": null,
            "flex": null,
            "_model_name": "LayoutModel",
            "justify_items": null,
            "grid_row": null,
            "max_height": null,
            "align_content": null,
            "visibility": null,
            "align_self": null,
            "height": null,
            "min_height": null,
            "padding": null,
            "grid_auto_rows": null,
            "grid_gap": null,
            "max_width": null,
            "order": null,
            "_view_module_version": "1.2.0",
            "grid_template_areas": null,
            "object_position": null,
            "object_fit": null,
            "grid_auto_columns": null,
            "margin": null,
            "display": null,
            "left": null
          }
        },
        "23a930cf49ce49518fc83a7841d6d1ab": {
          "model_module": "@jupyter-widgets/controls",
          "model_name": "HTMLModel",
          "model_module_version": "1.5.0",
          "state": {
            "_view_name": "HTMLView",
            "style": "IPY_MODEL_c772593600654fb2960b23094334a333",
            "_dom_classes": [],
            "description": "",
            "_model_name": "HTMLModel",
            "placeholder": "​",
            "_view_module": "@jupyter-widgets/controls",
            "_model_module_version": "1.5.0",
            "value": "100%",
            "_view_count": null,
            "_view_module_version": "1.5.0",
            "description_tooltip": null,
            "_model_module": "@jupyter-widgets/controls",
            "layout": "IPY_MODEL_67deb3454d8e40a0946887ebdefc8c4c"
          }
        },
        "b0fa9408a04b4b31bbc7bb16ce48bf5e": {
          "model_module": "@jupyter-widgets/controls",
          "model_name": "FloatProgressModel",
          "model_module_version": "1.5.0",
          "state": {
            "_view_name": "ProgressView",
            "style": "IPY_MODEL_904c0f4f177d416a95cea392aee93534",
            "_dom_classes": [],
            "description": "",
            "_model_name": "FloatProgressModel",
            "bar_style": "success",
            "max": 90,
            "_view_module": "@jupyter-widgets/controls",
            "_model_module_version": "1.5.0",
            "value": 90,
            "_view_count": null,
            "_view_module_version": "1.5.0",
            "orientation": "horizontal",
            "min": 0,
            "description_tooltip": null,
            "_model_module": "@jupyter-widgets/controls",
            "layout": "IPY_MODEL_8419c7b99ee04093a509e70e61dc2b4c"
          }
        },
        "27dca351981949e9a91a2d8f4d833d13": {
          "model_module": "@jupyter-widgets/controls",
          "model_name": "HTMLModel",
          "model_module_version": "1.5.0",
          "state": {
            "_view_name": "HTMLView",
            "style": "IPY_MODEL_be2733581b8e4125a8f6fb5cce1d8960",
            "_dom_classes": [],
            "description": "",
            "_model_name": "HTMLModel",
            "placeholder": "​",
            "_view_module": "@jupyter-widgets/controls",
            "_model_module_version": "1.5.0",
            "value": " 90/90 [00:09&lt;00:00,  9.79it/s]",
            "_view_count": null,
            "_view_module_version": "1.5.0",
            "description_tooltip": null,
            "_model_module": "@jupyter-widgets/controls",
            "layout": "IPY_MODEL_0805a122ec2146e2900f1fdbab4aa967"
          }
        },
        "c772593600654fb2960b23094334a333": {
          "model_module": "@jupyter-widgets/controls",
          "model_name": "DescriptionStyleModel",
          "model_module_version": "1.5.0",
          "state": {
            "_view_name": "StyleView",
            "_model_name": "DescriptionStyleModel",
            "description_width": "",
            "_view_module": "@jupyter-widgets/base",
            "_model_module_version": "1.5.0",
            "_view_count": null,
            "_view_module_version": "1.2.0",
            "_model_module": "@jupyter-widgets/controls"
          }
        },
        "67deb3454d8e40a0946887ebdefc8c4c": {
          "model_module": "@jupyter-widgets/base",
          "model_name": "LayoutModel",
          "model_module_version": "1.2.0",
          "state": {
            "_view_name": "LayoutView",
            "grid_template_rows": null,
            "right": null,
            "justify_content": null,
            "_view_module": "@jupyter-widgets/base",
            "overflow": null,
            "_model_module_version": "1.2.0",
            "_view_count": null,
            "flex_flow": null,
            "width": null,
            "min_width": null,
            "border": null,
            "align_items": null,
            "bottom": null,
            "_model_module": "@jupyter-widgets/base",
            "top": null,
            "grid_column": null,
            "overflow_y": null,
            "overflow_x": null,
            "grid_auto_flow": null,
            "grid_area": null,
            "grid_template_columns": null,
            "flex": null,
            "_model_name": "LayoutModel",
            "justify_items": null,
            "grid_row": null,
            "max_height": null,
            "align_content": null,
            "visibility": null,
            "align_self": null,
            "height": null,
            "min_height": null,
            "padding": null,
            "grid_auto_rows": null,
            "grid_gap": null,
            "max_width": null,
            "order": null,
            "_view_module_version": "1.2.0",
            "grid_template_areas": null,
            "object_position": null,
            "object_fit": null,
            "grid_auto_columns": null,
            "margin": null,
            "display": null,
            "left": null
          }
        },
        "904c0f4f177d416a95cea392aee93534": {
          "model_module": "@jupyter-widgets/controls",
          "model_name": "ProgressStyleModel",
          "model_module_version": "1.5.0",
          "state": {
            "_view_name": "StyleView",
            "_model_name": "ProgressStyleModel",
            "description_width": "",
            "_view_module": "@jupyter-widgets/base",
            "_model_module_version": "1.5.0",
            "_view_count": null,
            "_view_module_version": "1.2.0",
            "bar_color": null,
            "_model_module": "@jupyter-widgets/controls"
          }
        },
        "8419c7b99ee04093a509e70e61dc2b4c": {
          "model_module": "@jupyter-widgets/base",
          "model_name": "LayoutModel",
          "model_module_version": "1.2.0",
          "state": {
            "_view_name": "LayoutView",
            "grid_template_rows": null,
            "right": null,
            "justify_content": null,
            "_view_module": "@jupyter-widgets/base",
            "overflow": null,
            "_model_module_version": "1.2.0",
            "_view_count": null,
            "flex_flow": null,
            "width": null,
            "min_width": null,
            "border": null,
            "align_items": null,
            "bottom": null,
            "_model_module": "@jupyter-widgets/base",
            "top": null,
            "grid_column": null,
            "overflow_y": null,
            "overflow_x": null,
            "grid_auto_flow": null,
            "grid_area": null,
            "grid_template_columns": null,
            "flex": null,
            "_model_name": "LayoutModel",
            "justify_items": null,
            "grid_row": null,
            "max_height": null,
            "align_content": null,
            "visibility": null,
            "align_self": null,
            "height": null,
            "min_height": null,
            "padding": null,
            "grid_auto_rows": null,
            "grid_gap": null,
            "max_width": null,
            "order": null,
            "_view_module_version": "1.2.0",
            "grid_template_areas": null,
            "object_position": null,
            "object_fit": null,
            "grid_auto_columns": null,
            "margin": null,
            "display": null,
            "left": null
          }
        },
        "be2733581b8e4125a8f6fb5cce1d8960": {
          "model_module": "@jupyter-widgets/controls",
          "model_name": "DescriptionStyleModel",
          "model_module_version": "1.5.0",
          "state": {
            "_view_name": "StyleView",
            "_model_name": "DescriptionStyleModel",
            "description_width": "",
            "_view_module": "@jupyter-widgets/base",
            "_model_module_version": "1.5.0",
            "_view_count": null,
            "_view_module_version": "1.2.0",
            "_model_module": "@jupyter-widgets/controls"
          }
        },
        "0805a122ec2146e2900f1fdbab4aa967": {
          "model_module": "@jupyter-widgets/base",
          "model_name": "LayoutModel",
          "model_module_version": "1.2.0",
          "state": {
            "_view_name": "LayoutView",
            "grid_template_rows": null,
            "right": null,
            "justify_content": null,
            "_view_module": "@jupyter-widgets/base",
            "overflow": null,
            "_model_module_version": "1.2.0",
            "_view_count": null,
            "flex_flow": null,
            "width": null,
            "min_width": null,
            "border": null,
            "align_items": null,
            "bottom": null,
            "_model_module": "@jupyter-widgets/base",
            "top": null,
            "grid_column": null,
            "overflow_y": null,
            "overflow_x": null,
            "grid_auto_flow": null,
            "grid_area": null,
            "grid_template_columns": null,
            "flex": null,
            "_model_name": "LayoutModel",
            "justify_items": null,
            "grid_row": null,
            "max_height": null,
            "align_content": null,
            "visibility": null,
            "align_self": null,
            "height": null,
            "min_height": null,
            "padding": null,
            "grid_auto_rows": null,
            "grid_gap": null,
            "max_width": null,
            "order": null,
            "_view_module_version": "1.2.0",
            "grid_template_areas": null,
            "object_position": null,
            "object_fit": null,
            "grid_auto_columns": null,
            "margin": null,
            "display": null,
            "left": null
          }
        },
        "1628bf5b50e64e8cb3ccd59f62b93766": {
          "model_module": "@jupyter-widgets/controls",
          "model_name": "HBoxModel",
          "model_module_version": "1.5.0",
          "state": {
            "_view_name": "HBoxView",
            "_dom_classes": [],
            "_model_name": "HBoxModel",
            "_view_module": "@jupyter-widgets/controls",
            "_model_module_version": "1.5.0",
            "_view_count": null,
            "_view_module_version": "1.5.0",
            "box_style": "",
            "layout": "IPY_MODEL_c21f85b4bf754456a868df6a797b083a",
            "_model_module": "@jupyter-widgets/controls",
            "children": [
              "IPY_MODEL_245c2dc844dc4e599ce8d1b01f9ee218",
              "IPY_MODEL_a14c6b83981c467aadc1f9bbdc4ab589",
              "IPY_MODEL_db8474b0c00e4f4284efb85cf96468ec"
            ]
          }
        },
        "c21f85b4bf754456a868df6a797b083a": {
          "model_module": "@jupyter-widgets/base",
          "model_name": "LayoutModel",
          "model_module_version": "1.2.0",
          "state": {
            "_view_name": "LayoutView",
            "grid_template_rows": null,
            "right": null,
            "justify_content": null,
            "_view_module": "@jupyter-widgets/base",
            "overflow": null,
            "_model_module_version": "1.2.0",
            "_view_count": null,
            "flex_flow": null,
            "width": null,
            "min_width": null,
            "border": null,
            "align_items": null,
            "bottom": null,
            "_model_module": "@jupyter-widgets/base",
            "top": null,
            "grid_column": null,
            "overflow_y": null,
            "overflow_x": null,
            "grid_auto_flow": null,
            "grid_area": null,
            "grid_template_columns": null,
            "flex": null,
            "_model_name": "LayoutModel",
            "justify_items": null,
            "grid_row": null,
            "max_height": null,
            "align_content": null,
            "visibility": null,
            "align_self": null,
            "height": null,
            "min_height": null,
            "padding": null,
            "grid_auto_rows": null,
            "grid_gap": null,
            "max_width": null,
            "order": null,
            "_view_module_version": "1.2.0",
            "grid_template_areas": null,
            "object_position": null,
            "object_fit": null,
            "grid_auto_columns": null,
            "margin": null,
            "display": null,
            "left": null
          }
        },
        "245c2dc844dc4e599ce8d1b01f9ee218": {
          "model_module": "@jupyter-widgets/controls",
          "model_name": "HTMLModel",
          "model_module_version": "1.5.0",
          "state": {
            "_view_name": "HTMLView",
            "style": "IPY_MODEL_e6f6843cbb184a2d8542056de0520e58",
            "_dom_classes": [],
            "description": "",
            "_model_name": "HTMLModel",
            "placeholder": "​",
            "_view_module": "@jupyter-widgets/controls",
            "_model_module_version": "1.5.0",
            "value": "100%",
            "_view_count": null,
            "_view_module_version": "1.5.0",
            "description_tooltip": null,
            "_model_module": "@jupyter-widgets/controls",
            "layout": "IPY_MODEL_27ad87ad1b9a461da55f7c84193481d5"
          }
        },
        "a14c6b83981c467aadc1f9bbdc4ab589": {
          "model_module": "@jupyter-widgets/controls",
          "model_name": "FloatProgressModel",
          "model_module_version": "1.5.0",
          "state": {
            "_view_name": "ProgressView",
            "style": "IPY_MODEL_9f62b77c9ec8430ab69dbab90279e295",
            "_dom_classes": [],
            "description": "",
            "_model_name": "FloatProgressModel",
            "bar_style": "success",
            "max": 90,
            "_view_module": "@jupyter-widgets/controls",
            "_model_module_version": "1.5.0",
            "value": 90,
            "_view_count": null,
            "_view_module_version": "1.5.0",
            "orientation": "horizontal",
            "min": 0,
            "description_tooltip": null,
            "_model_module": "@jupyter-widgets/controls",
            "layout": "IPY_MODEL_16cc491c105443bab5e6a2f11c193416"
          }
        },
        "db8474b0c00e4f4284efb85cf96468ec": {
          "model_module": "@jupyter-widgets/controls",
          "model_name": "HTMLModel",
          "model_module_version": "1.5.0",
          "state": {
            "_view_name": "HTMLView",
            "style": "IPY_MODEL_3cf44719e0004d14aea442dae8f96dc5",
            "_dom_classes": [],
            "description": "",
            "_model_name": "HTMLModel",
            "placeholder": "​",
            "_view_module": "@jupyter-widgets/controls",
            "_model_module_version": "1.5.0",
            "value": " 90/90 [00:10&lt;00:00,  8.53it/s]",
            "_view_count": null,
            "_view_module_version": "1.5.0",
            "description_tooltip": null,
            "_model_module": "@jupyter-widgets/controls",
            "layout": "IPY_MODEL_74aa707a63b84b169892b6987b96b4ea"
          }
        },
        "e6f6843cbb184a2d8542056de0520e58": {
          "model_module": "@jupyter-widgets/controls",
          "model_name": "DescriptionStyleModel",
          "model_module_version": "1.5.0",
          "state": {
            "_view_name": "StyleView",
            "_model_name": "DescriptionStyleModel",
            "description_width": "",
            "_view_module": "@jupyter-widgets/base",
            "_model_module_version": "1.5.0",
            "_view_count": null,
            "_view_module_version": "1.2.0",
            "_model_module": "@jupyter-widgets/controls"
          }
        },
        "27ad87ad1b9a461da55f7c84193481d5": {
          "model_module": "@jupyter-widgets/base",
          "model_name": "LayoutModel",
          "model_module_version": "1.2.0",
          "state": {
            "_view_name": "LayoutView",
            "grid_template_rows": null,
            "right": null,
            "justify_content": null,
            "_view_module": "@jupyter-widgets/base",
            "overflow": null,
            "_model_module_version": "1.2.0",
            "_view_count": null,
            "flex_flow": null,
            "width": null,
            "min_width": null,
            "border": null,
            "align_items": null,
            "bottom": null,
            "_model_module": "@jupyter-widgets/base",
            "top": null,
            "grid_column": null,
            "overflow_y": null,
            "overflow_x": null,
            "grid_auto_flow": null,
            "grid_area": null,
            "grid_template_columns": null,
            "flex": null,
            "_model_name": "LayoutModel",
            "justify_items": null,
            "grid_row": null,
            "max_height": null,
            "align_content": null,
            "visibility": null,
            "align_self": null,
            "height": null,
            "min_height": null,
            "padding": null,
            "grid_auto_rows": null,
            "grid_gap": null,
            "max_width": null,
            "order": null,
            "_view_module_version": "1.2.0",
            "grid_template_areas": null,
            "object_position": null,
            "object_fit": null,
            "grid_auto_columns": null,
            "margin": null,
            "display": null,
            "left": null
          }
        },
        "9f62b77c9ec8430ab69dbab90279e295": {
          "model_module": "@jupyter-widgets/controls",
          "model_name": "ProgressStyleModel",
          "model_module_version": "1.5.0",
          "state": {
            "_view_name": "StyleView",
            "_model_name": "ProgressStyleModel",
            "description_width": "",
            "_view_module": "@jupyter-widgets/base",
            "_model_module_version": "1.5.0",
            "_view_count": null,
            "_view_module_version": "1.2.0",
            "bar_color": null,
            "_model_module": "@jupyter-widgets/controls"
          }
        },
        "16cc491c105443bab5e6a2f11c193416": {
          "model_module": "@jupyter-widgets/base",
          "model_name": "LayoutModel",
          "model_module_version": "1.2.0",
          "state": {
            "_view_name": "LayoutView",
            "grid_template_rows": null,
            "right": null,
            "justify_content": null,
            "_view_module": "@jupyter-widgets/base",
            "overflow": null,
            "_model_module_version": "1.2.0",
            "_view_count": null,
            "flex_flow": null,
            "width": null,
            "min_width": null,
            "border": null,
            "align_items": null,
            "bottom": null,
            "_model_module": "@jupyter-widgets/base",
            "top": null,
            "grid_column": null,
            "overflow_y": null,
            "overflow_x": null,
            "grid_auto_flow": null,
            "grid_area": null,
            "grid_template_columns": null,
            "flex": null,
            "_model_name": "LayoutModel",
            "justify_items": null,
            "grid_row": null,
            "max_height": null,
            "align_content": null,
            "visibility": null,
            "align_self": null,
            "height": null,
            "min_height": null,
            "padding": null,
            "grid_auto_rows": null,
            "grid_gap": null,
            "max_width": null,
            "order": null,
            "_view_module_version": "1.2.0",
            "grid_template_areas": null,
            "object_position": null,
            "object_fit": null,
            "grid_auto_columns": null,
            "margin": null,
            "display": null,
            "left": null
          }
        },
        "3cf44719e0004d14aea442dae8f96dc5": {
          "model_module": "@jupyter-widgets/controls",
          "model_name": "DescriptionStyleModel",
          "model_module_version": "1.5.0",
          "state": {
            "_view_name": "StyleView",
            "_model_name": "DescriptionStyleModel",
            "description_width": "",
            "_view_module": "@jupyter-widgets/base",
            "_model_module_version": "1.5.0",
            "_view_count": null,
            "_view_module_version": "1.2.0",
            "_model_module": "@jupyter-widgets/controls"
          }
        },
        "74aa707a63b84b169892b6987b96b4ea": {
          "model_module": "@jupyter-widgets/base",
          "model_name": "LayoutModel",
          "model_module_version": "1.2.0",
          "state": {
            "_view_name": "LayoutView",
            "grid_template_rows": null,
            "right": null,
            "justify_content": null,
            "_view_module": "@jupyter-widgets/base",
            "overflow": null,
            "_model_module_version": "1.2.0",
            "_view_count": null,
            "flex_flow": null,
            "width": null,
            "min_width": null,
            "border": null,
            "align_items": null,
            "bottom": null,
            "_model_module": "@jupyter-widgets/base",
            "top": null,
            "grid_column": null,
            "overflow_y": null,
            "overflow_x": null,
            "grid_auto_flow": null,
            "grid_area": null,
            "grid_template_columns": null,
            "flex": null,
            "_model_name": "LayoutModel",
            "justify_items": null,
            "grid_row": null,
            "max_height": null,
            "align_content": null,
            "visibility": null,
            "align_self": null,
            "height": null,
            "min_height": null,
            "padding": null,
            "grid_auto_rows": null,
            "grid_gap": null,
            "max_width": null,
            "order": null,
            "_view_module_version": "1.2.0",
            "grid_template_areas": null,
            "object_position": null,
            "object_fit": null,
            "grid_auto_columns": null,
            "margin": null,
            "display": null,
            "left": null
          }
        },
        "f6a06e2782b7427a8fe28f7e86be8040": {
          "model_module": "@jupyter-widgets/controls",
          "model_name": "HBoxModel",
          "model_module_version": "1.5.0",
          "state": {
            "_view_name": "HBoxView",
            "_dom_classes": [],
            "_model_name": "HBoxModel",
            "_view_module": "@jupyter-widgets/controls",
            "_model_module_version": "1.5.0",
            "_view_count": null,
            "_view_module_version": "1.5.0",
            "box_style": "",
            "layout": "IPY_MODEL_12b3a9d533eb4b2baf1039d7a8abf6dd",
            "_model_module": "@jupyter-widgets/controls",
            "children": [
              "IPY_MODEL_8367193832e449608b9c91d044b540c9",
              "IPY_MODEL_54310d39e29047899b99848eff16821d",
              "IPY_MODEL_64ecb8d870ab443b9a5ea50388f42dfa"
            ]
          }
        },
        "12b3a9d533eb4b2baf1039d7a8abf6dd": {
          "model_module": "@jupyter-widgets/base",
          "model_name": "LayoutModel",
          "model_module_version": "1.2.0",
          "state": {
            "_view_name": "LayoutView",
            "grid_template_rows": null,
            "right": null,
            "justify_content": null,
            "_view_module": "@jupyter-widgets/base",
            "overflow": null,
            "_model_module_version": "1.2.0",
            "_view_count": null,
            "flex_flow": null,
            "width": null,
            "min_width": null,
            "border": null,
            "align_items": null,
            "bottom": null,
            "_model_module": "@jupyter-widgets/base",
            "top": null,
            "grid_column": null,
            "overflow_y": null,
            "overflow_x": null,
            "grid_auto_flow": null,
            "grid_area": null,
            "grid_template_columns": null,
            "flex": null,
            "_model_name": "LayoutModel",
            "justify_items": null,
            "grid_row": null,
            "max_height": null,
            "align_content": null,
            "visibility": null,
            "align_self": null,
            "height": null,
            "min_height": null,
            "padding": null,
            "grid_auto_rows": null,
            "grid_gap": null,
            "max_width": null,
            "order": null,
            "_view_module_version": "1.2.0",
            "grid_template_areas": null,
            "object_position": null,
            "object_fit": null,
            "grid_auto_columns": null,
            "margin": null,
            "display": null,
            "left": null
          }
        },
        "8367193832e449608b9c91d044b540c9": {
          "model_module": "@jupyter-widgets/controls",
          "model_name": "HTMLModel",
          "model_module_version": "1.5.0",
          "state": {
            "_view_name": "HTMLView",
            "style": "IPY_MODEL_ee9cb0c26d154c50bc7f627f7e951303",
            "_dom_classes": [],
            "description": "",
            "_model_name": "HTMLModel",
            "placeholder": "​",
            "_view_module": "@jupyter-widgets/controls",
            "_model_module_version": "1.5.0",
            "value": "100%",
            "_view_count": null,
            "_view_module_version": "1.5.0",
            "description_tooltip": null,
            "_model_module": "@jupyter-widgets/controls",
            "layout": "IPY_MODEL_c4d08bf53acc462d93e9af989b17c61a"
          }
        },
        "54310d39e29047899b99848eff16821d": {
          "model_module": "@jupyter-widgets/controls",
          "model_name": "FloatProgressModel",
          "model_module_version": "1.5.0",
          "state": {
            "_view_name": "ProgressView",
            "style": "IPY_MODEL_98f14b0a0d244f6f8085c85a8821fe45",
            "_dom_classes": [],
            "description": "",
            "_model_name": "FloatProgressModel",
            "bar_style": "success",
            "max": 90,
            "_view_module": "@jupyter-widgets/controls",
            "_model_module_version": "1.5.0",
            "value": 90,
            "_view_count": null,
            "_view_module_version": "1.5.0",
            "orientation": "horizontal",
            "min": 0,
            "description_tooltip": null,
            "_model_module": "@jupyter-widgets/controls",
            "layout": "IPY_MODEL_fd12e65425984e4fbb2cc57e0c39b17f"
          }
        },
        "64ecb8d870ab443b9a5ea50388f42dfa": {
          "model_module": "@jupyter-widgets/controls",
          "model_name": "HTMLModel",
          "model_module_version": "1.5.0",
          "state": {
            "_view_name": "HTMLView",
            "style": "IPY_MODEL_7428d5c734464709b8528ba3475f9d3e",
            "_dom_classes": [],
            "description": "",
            "_model_name": "HTMLModel",
            "placeholder": "​",
            "_view_module": "@jupyter-widgets/controls",
            "_model_module_version": "1.5.0",
            "value": " 90/90 [00:06&lt;00:00, 13.71it/s]",
            "_view_count": null,
            "_view_module_version": "1.5.0",
            "description_tooltip": null,
            "_model_module": "@jupyter-widgets/controls",
            "layout": "IPY_MODEL_2d12d81c09a14c259b1c6b5374672f63"
          }
        },
        "ee9cb0c26d154c50bc7f627f7e951303": {
          "model_module": "@jupyter-widgets/controls",
          "model_name": "DescriptionStyleModel",
          "model_module_version": "1.5.0",
          "state": {
            "_view_name": "StyleView",
            "_model_name": "DescriptionStyleModel",
            "description_width": "",
            "_view_module": "@jupyter-widgets/base",
            "_model_module_version": "1.5.0",
            "_view_count": null,
            "_view_module_version": "1.2.0",
            "_model_module": "@jupyter-widgets/controls"
          }
        },
        "c4d08bf53acc462d93e9af989b17c61a": {
          "model_module": "@jupyter-widgets/base",
          "model_name": "LayoutModel",
          "model_module_version": "1.2.0",
          "state": {
            "_view_name": "LayoutView",
            "grid_template_rows": null,
            "right": null,
            "justify_content": null,
            "_view_module": "@jupyter-widgets/base",
            "overflow": null,
            "_model_module_version": "1.2.0",
            "_view_count": null,
            "flex_flow": null,
            "width": null,
            "min_width": null,
            "border": null,
            "align_items": null,
            "bottom": null,
            "_model_module": "@jupyter-widgets/base",
            "top": null,
            "grid_column": null,
            "overflow_y": null,
            "overflow_x": null,
            "grid_auto_flow": null,
            "grid_area": null,
            "grid_template_columns": null,
            "flex": null,
            "_model_name": "LayoutModel",
            "justify_items": null,
            "grid_row": null,
            "max_height": null,
            "align_content": null,
            "visibility": null,
            "align_self": null,
            "height": null,
            "min_height": null,
            "padding": null,
            "grid_auto_rows": null,
            "grid_gap": null,
            "max_width": null,
            "order": null,
            "_view_module_version": "1.2.0",
            "grid_template_areas": null,
            "object_position": null,
            "object_fit": null,
            "grid_auto_columns": null,
            "margin": null,
            "display": null,
            "left": null
          }
        },
        "98f14b0a0d244f6f8085c85a8821fe45": {
          "model_module": "@jupyter-widgets/controls",
          "model_name": "ProgressStyleModel",
          "model_module_version": "1.5.0",
          "state": {
            "_view_name": "StyleView",
            "_model_name": "ProgressStyleModel",
            "description_width": "",
            "_view_module": "@jupyter-widgets/base",
            "_model_module_version": "1.5.0",
            "_view_count": null,
            "_view_module_version": "1.2.0",
            "bar_color": null,
            "_model_module": "@jupyter-widgets/controls"
          }
        },
        "fd12e65425984e4fbb2cc57e0c39b17f": {
          "model_module": "@jupyter-widgets/base",
          "model_name": "LayoutModel",
          "model_module_version": "1.2.0",
          "state": {
            "_view_name": "LayoutView",
            "grid_template_rows": null,
            "right": null,
            "justify_content": null,
            "_view_module": "@jupyter-widgets/base",
            "overflow": null,
            "_model_module_version": "1.2.0",
            "_view_count": null,
            "flex_flow": null,
            "width": null,
            "min_width": null,
            "border": null,
            "align_items": null,
            "bottom": null,
            "_model_module": "@jupyter-widgets/base",
            "top": null,
            "grid_column": null,
            "overflow_y": null,
            "overflow_x": null,
            "grid_auto_flow": null,
            "grid_area": null,
            "grid_template_columns": null,
            "flex": null,
            "_model_name": "LayoutModel",
            "justify_items": null,
            "grid_row": null,
            "max_height": null,
            "align_content": null,
            "visibility": null,
            "align_self": null,
            "height": null,
            "min_height": null,
            "padding": null,
            "grid_auto_rows": null,
            "grid_gap": null,
            "max_width": null,
            "order": null,
            "_view_module_version": "1.2.0",
            "grid_template_areas": null,
            "object_position": null,
            "object_fit": null,
            "grid_auto_columns": null,
            "margin": null,
            "display": null,
            "left": null
          }
        },
        "7428d5c734464709b8528ba3475f9d3e": {
          "model_module": "@jupyter-widgets/controls",
          "model_name": "DescriptionStyleModel",
          "model_module_version": "1.5.0",
          "state": {
            "_view_name": "StyleView",
            "_model_name": "DescriptionStyleModel",
            "description_width": "",
            "_view_module": "@jupyter-widgets/base",
            "_model_module_version": "1.5.0",
            "_view_count": null,
            "_view_module_version": "1.2.0",
            "_model_module": "@jupyter-widgets/controls"
          }
        },
        "2d12d81c09a14c259b1c6b5374672f63": {
          "model_module": "@jupyter-widgets/base",
          "model_name": "LayoutModel",
          "model_module_version": "1.2.0",
          "state": {
            "_view_name": "LayoutView",
            "grid_template_rows": null,
            "right": null,
            "justify_content": null,
            "_view_module": "@jupyter-widgets/base",
            "overflow": null,
            "_model_module_version": "1.2.0",
            "_view_count": null,
            "flex_flow": null,
            "width": null,
            "min_width": null,
            "border": null,
            "align_items": null,
            "bottom": null,
            "_model_module": "@jupyter-widgets/base",
            "top": null,
            "grid_column": null,
            "overflow_y": null,
            "overflow_x": null,
            "grid_auto_flow": null,
            "grid_area": null,
            "grid_template_columns": null,
            "flex": null,
            "_model_name": "LayoutModel",
            "justify_items": null,
            "grid_row": null,
            "max_height": null,
            "align_content": null,
            "visibility": null,
            "align_self": null,
            "height": null,
            "min_height": null,
            "padding": null,
            "grid_auto_rows": null,
            "grid_gap": null,
            "max_width": null,
            "order": null,
            "_view_module_version": "1.2.0",
            "grid_template_areas": null,
            "object_position": null,
            "object_fit": null,
            "grid_auto_columns": null,
            "margin": null,
            "display": null,
            "left": null
          }
        }
      }
    }
  },
  "cells": [
    {
      "cell_type": "markdown",
      "metadata": {
        "id": "view-in-github",
        "colab_type": "text"
      },
      "source": [
        "<a href=\"https://colab.research.google.com/github/SiddhantSalvi/smart-plug/blob/master/3DReconstructionTest.ipynb\" target=\"_parent\"><img src=\"https://colab.research.google.com/assets/colab-badge.svg\" alt=\"Open In Colab\"/></a>"
      ]
    },
    {
      "cell_type": "markdown",
      "source": [
        "# Intro and Setup\n",
        "\n",
        "Welcome to the Google Colab for the Unity ML test! This template is *purely optional* and intended to provide a way to run your code with a GPU if you don't have access to one. Note that we are *not* grading for performance, so if you'd like to run with a CPU locally, that is an option. You may dramatically reduce the number of frames you convert to 3D to do so.\n",
        "\n",
        "This section will set up the environment so that you can run the test files and clone your repo. \n",
        "\n",
        "## Getting the test files uploaded\n",
        "\n",
        "First, let's upload the zip file provided in the test to the Colab, and unzip it. Run the following code, click the \"Choose Files\", and pick the ZIP file. After the files finish unzipping, you should see 3 MP4 files,\n",
        "- FigureSkater.mp4\n",
        "- JumpingJacks.mp4\n",
        "- Skateboarder.mp4\n"
      ],
      "metadata": {
        "id": "q7a0H-T2UGzw"
      }
    },
    {
      "cell_type": "code",
      "source": [
        "# downloading all the dependencies\n",
        "# Takes approximately 5 mins to run\n",
        "!pip install torch==1.4.0 torchvision==0.5.0\n",
        "!pip install open3D\n",
        "!pip install PyOpenGL PyOpenGL_accelerate"
      ],
      "metadata": {
        "id": "tTXuRo81jlxT",
        "colab": {
          "base_uri": "https://localhost:8080/"
        },
        "outputId": "44bace89-9a9c-4e2f-8004-be4f5dc7de53"
      },
      "execution_count": 1,
      "outputs": [
        {
          "output_type": "stream",
          "name": "stdout",
          "text": [
            "Requirement already satisfied: torch==1.4.0 in /usr/local/lib/python3.7/dist-packages (1.4.0)\n",
            "Requirement already satisfied: torchvision==0.5.0 in /usr/local/lib/python3.7/dist-packages (0.5.0)\n",
            "Requirement already satisfied: numpy in /usr/local/lib/python3.7/dist-packages (from torchvision==0.5.0) (1.19.5)\n",
            "Requirement already satisfied: pillow>=4.1.1 in /usr/local/lib/python3.7/dist-packages (from torchvision==0.5.0) (9.0.0)\n",
            "Requirement already satisfied: six in /usr/local/lib/python3.7/dist-packages (from torchvision==0.5.0) (1.15.0)\n",
            "Requirement already satisfied: open3D in /usr/local/lib/python3.7/dist-packages (0.14.1)\n",
            "Requirement already satisfied: matplotlib>=3 in /usr/local/lib/python3.7/dist-packages (from open3D) (3.2.2)\n",
            "Requirement already satisfied: numpy>1.15 in /usr/local/lib/python3.7/dist-packages (from open3D) (1.19.5)\n",
            "Requirement already satisfied: wheel>=0.36.0 in /usr/local/lib/python3.7/dist-packages (from open3D) (0.37.1)\n",
            "Requirement already satisfied: ipywidgets>=7.6.0 in /usr/local/lib/python3.7/dist-packages (from open3D) (7.6.5)\n",
            "Requirement already satisfied: setuptools>=40.8.0 in /usr/local/lib/python3.7/dist-packages (from open3D) (57.4.0)\n",
            "Requirement already satisfied: jupyter-packaging~=0.10 in /usr/local/lib/python3.7/dist-packages (from open3D) (0.11.1)\n",
            "Requirement already satisfied: jupyterlab==3.*,>=3.0.0 in /usr/local/lib/python3.7/dist-packages (from open3D) (3.2.8)\n",
            "Requirement already satisfied: addict in /usr/local/lib/python3.7/dist-packages (from open3D) (2.4.0)\n",
            "Requirement already satisfied: pillow>=8.2.0 in /usr/local/lib/python3.7/dist-packages (from open3D) (9.0.0)\n",
            "Requirement already satisfied: scikit-learn>=0.21 in /usr/local/lib/python3.7/dist-packages (from open3D) (1.0.2)\n",
            "Requirement already satisfied: pyyaml>=5.4.1 in /usr/local/lib/python3.7/dist-packages (from open3D) (6.0)\n",
            "Requirement already satisfied: pygments>=2.7.4 in /usr/local/lib/python3.7/dist-packages (from open3D) (2.11.2)\n",
            "Requirement already satisfied: tqdm in /usr/local/lib/python3.7/dist-packages (from open3D) (4.62.3)\n",
            "Requirement already satisfied: pandas>=1.0 in /usr/local/lib/python3.7/dist-packages (from open3D) (1.1.5)\n",
            "Requirement already satisfied: jupyterlab-server~=2.3 in /usr/local/lib/python3.7/dist-packages (from jupyterlab==3.*,>=3.0.0->open3D) (2.10.3)\n",
            "Requirement already satisfied: nbclassic~=0.2 in /usr/local/lib/python3.7/dist-packages (from jupyterlab==3.*,>=3.0.0->open3D) (0.3.5)\n",
            "Requirement already satisfied: jinja2>=2.1 in /usr/local/lib/python3.7/dist-packages (from jupyterlab==3.*,>=3.0.0->open3D) (2.11.3)\n",
            "Requirement already satisfied: packaging in /usr/local/lib/python3.7/dist-packages (from jupyterlab==3.*,>=3.0.0->open3D) (21.3)\n",
            "Requirement already satisfied: ipython in /usr/local/lib/python3.7/dist-packages (from jupyterlab==3.*,>=3.0.0->open3D) (5.5.0)\n",
            "Requirement already satisfied: jupyter-core in /usr/local/lib/python3.7/dist-packages (from jupyterlab==3.*,>=3.0.0->open3D) (4.9.1)\n",
            "Requirement already satisfied: jupyter-server~=1.4 in /usr/local/lib/python3.7/dist-packages (from jupyterlab==3.*,>=3.0.0->open3D) (1.13.3)\n",
            "Requirement already satisfied: tornado>=6.1.0 in /usr/local/lib/python3.7/dist-packages (from jupyterlab==3.*,>=3.0.0->open3D) (6.1)\n",
            "Requirement already satisfied: ipykernel>=4.5.1 in /usr/local/lib/python3.7/dist-packages (from ipywidgets>=7.6.0->open3D) (4.10.1)\n",
            "Requirement already satisfied: ipython-genutils~=0.2.0 in /usr/local/lib/python3.7/dist-packages (from ipywidgets>=7.6.0->open3D) (0.2.0)\n",
            "Requirement already satisfied: jupyterlab-widgets>=1.0.0 in /usr/local/lib/python3.7/dist-packages (from ipywidgets>=7.6.0->open3D) (1.0.2)\n",
            "Requirement already satisfied: traitlets>=4.3.1 in /usr/local/lib/python3.7/dist-packages (from ipywidgets>=7.6.0->open3D) (5.1.1)\n",
            "Requirement already satisfied: widgetsnbextension~=3.5.0 in /usr/local/lib/python3.7/dist-packages (from ipywidgets>=7.6.0->open3D) (3.5.2)\n",
            "Requirement already satisfied: nbformat>=4.2.0 in /usr/local/lib/python3.7/dist-packages (from ipywidgets>=7.6.0->open3D) (5.1.3)\n",
            "Requirement already satisfied: jupyter-client in /usr/local/lib/python3.7/dist-packages (from ipykernel>=4.5.1->ipywidgets>=7.6.0->open3D) (7.1.1)\n",
            "Requirement already satisfied: pexpect in /usr/local/lib/python3.7/dist-packages (from ipython->jupyterlab==3.*,>=3.0.0->open3D) (4.8.0)\n",
            "Requirement already satisfied: prompt-toolkit<2.0.0,>=1.0.4 in /usr/local/lib/python3.7/dist-packages (from ipython->jupyterlab==3.*,>=3.0.0->open3D) (1.0.18)\n",
            "Requirement already satisfied: decorator in /usr/local/lib/python3.7/dist-packages (from ipython->jupyterlab==3.*,>=3.0.0->open3D) (4.4.2)\n",
            "Requirement already satisfied: simplegeneric>0.8 in /usr/local/lib/python3.7/dist-packages (from ipython->jupyterlab==3.*,>=3.0.0->open3D) (0.8.1)\n",
            "Requirement already satisfied: pickleshare in /usr/local/lib/python3.7/dist-packages (from ipython->jupyterlab==3.*,>=3.0.0->open3D) (0.7.5)\n",
            "Requirement already satisfied: MarkupSafe>=0.23 in /usr/local/lib/python3.7/dist-packages (from jinja2>=2.1->jupyterlab==3.*,>=3.0.0->open3D) (2.0.1)\n",
            "Requirement already satisfied: tomlkit in /usr/local/lib/python3.7/dist-packages (from jupyter-packaging~=0.10->open3D) (0.8.0)\n",
            "Requirement already satisfied: deprecation in /usr/local/lib/python3.7/dist-packages (from jupyter-packaging~=0.10->open3D) (2.1.0)\n",
            "Requirement already satisfied: prometheus-client in /usr/local/lib/python3.7/dist-packages (from jupyter-server~=1.4->jupyterlab==3.*,>=3.0.0->open3D) (0.12.0)\n",
            "Requirement already satisfied: anyio<4,>=3.1.0 in /usr/local/lib/python3.7/dist-packages (from jupyter-server~=1.4->jupyterlab==3.*,>=3.0.0->open3D) (3.5.0)\n",
            "Requirement already satisfied: Send2Trash in /usr/local/lib/python3.7/dist-packages (from jupyter-server~=1.4->jupyterlab==3.*,>=3.0.0->open3D) (1.8.0)\n",
            "Requirement already satisfied: pyzmq>=17 in /usr/local/lib/python3.7/dist-packages (from jupyter-server~=1.4->jupyterlab==3.*,>=3.0.0->open3D) (22.3.0)\n",
            "Requirement already satisfied: argon2-cffi in /usr/local/lib/python3.7/dist-packages (from jupyter-server~=1.4->jupyterlab==3.*,>=3.0.0->open3D) (21.3.0)\n",
            "Requirement already satisfied: nbconvert in /usr/local/lib/python3.7/dist-packages (from jupyter-server~=1.4->jupyterlab==3.*,>=3.0.0->open3D) (5.6.1)\n",
            "Requirement already satisfied: terminado>=0.8.3 in /usr/local/lib/python3.7/dist-packages (from jupyter-server~=1.4->jupyterlab==3.*,>=3.0.0->open3D) (0.12.1)\n",
            "Requirement already satisfied: websocket-client in /usr/local/lib/python3.7/dist-packages (from jupyter-server~=1.4->jupyterlab==3.*,>=3.0.0->open3D) (1.2.3)\n",
            "Requirement already satisfied: sniffio>=1.1 in /usr/local/lib/python3.7/dist-packages (from anyio<4,>=3.1.0->jupyter-server~=1.4->jupyterlab==3.*,>=3.0.0->open3D) (1.2.0)\n",
            "Requirement already satisfied: typing-extensions in /usr/local/lib/python3.7/dist-packages (from anyio<4,>=3.1.0->jupyter-server~=1.4->jupyterlab==3.*,>=3.0.0->open3D) (3.10.0.2)\n",
            "Requirement already satisfied: idna>=2.8 in /usr/local/lib/python3.7/dist-packages (from anyio<4,>=3.1.0->jupyter-server~=1.4->jupyterlab==3.*,>=3.0.0->open3D) (2.10)\n",
            "Requirement already satisfied: nest-asyncio>=1.5 in /usr/local/lib/python3.7/dist-packages (from jupyter-client->ipykernel>=4.5.1->ipywidgets>=7.6.0->open3D) (1.5.4)\n",
            "Requirement already satisfied: python-dateutil>=2.1 in /usr/local/lib/python3.7/dist-packages (from jupyter-client->ipykernel>=4.5.1->ipywidgets>=7.6.0->open3D) (2.8.2)\n",
            "Requirement already satisfied: entrypoints in /usr/local/lib/python3.7/dist-packages (from jupyter-client->ipykernel>=4.5.1->ipywidgets>=7.6.0->open3D) (0.3)\n",
            "Requirement already satisfied: babel in /usr/local/lib/python3.7/dist-packages (from jupyterlab-server~=2.3->jupyterlab==3.*,>=3.0.0->open3D) (2.9.1)\n",
            "Requirement already satisfied: requests in /usr/local/lib/python3.7/dist-packages (from jupyterlab-server~=2.3->jupyterlab==3.*,>=3.0.0->open3D) (2.23.0)\n",
            "Requirement already satisfied: json5 in /usr/local/lib/python3.7/dist-packages (from jupyterlab-server~=2.3->jupyterlab==3.*,>=3.0.0->open3D) (0.9.6)\n",
            "Requirement already satisfied: jsonschema>=3.0.1 in /usr/local/lib/python3.7/dist-packages (from jupyterlab-server~=2.3->jupyterlab==3.*,>=3.0.0->open3D) (4.3.3)\n",
            "Requirement already satisfied: importlib-metadata in /usr/local/lib/python3.7/dist-packages (from jsonschema>=3.0.1->jupyterlab-server~=2.3->jupyterlab==3.*,>=3.0.0->open3D) (4.10.0)\n",
            "Requirement already satisfied: pyrsistent!=0.17.0,!=0.17.1,!=0.17.2,>=0.14.0 in /usr/local/lib/python3.7/dist-packages (from jsonschema>=3.0.1->jupyterlab-server~=2.3->jupyterlab==3.*,>=3.0.0->open3D) (0.18.0)\n",
            "Requirement already satisfied: attrs>=17.4.0 in /usr/local/lib/python3.7/dist-packages (from jsonschema>=3.0.1->jupyterlab-server~=2.3->jupyterlab==3.*,>=3.0.0->open3D) (21.4.0)\n",
            "Requirement already satisfied: importlib-resources>=1.4.0 in /usr/local/lib/python3.7/dist-packages (from jsonschema>=3.0.1->jupyterlab-server~=2.3->jupyterlab==3.*,>=3.0.0->open3D) (5.4.0)\n",
            "Requirement already satisfied: zipp>=3.1.0 in /usr/local/lib/python3.7/dist-packages (from importlib-resources>=1.4.0->jsonschema>=3.0.1->jupyterlab-server~=2.3->jupyterlab==3.*,>=3.0.0->open3D) (3.7.0)\n",
            "Requirement already satisfied: kiwisolver>=1.0.1 in /usr/local/lib/python3.7/dist-packages (from matplotlib>=3->open3D) (1.3.2)\n",
            "Requirement already satisfied: pyparsing!=2.0.4,!=2.1.2,!=2.1.6,>=2.0.1 in /usr/local/lib/python3.7/dist-packages (from matplotlib>=3->open3D) (3.0.6)\n",
            "Requirement already satisfied: cycler>=0.10 in /usr/local/lib/python3.7/dist-packages (from matplotlib>=3->open3D) (0.11.0)\n",
            "Requirement already satisfied: notebook<7 in /usr/local/lib/python3.7/dist-packages (from nbclassic~=0.2->jupyterlab==3.*,>=3.0.0->open3D) (5.3.1)\n",
            "Requirement already satisfied: pytz>=2017.2 in /usr/local/lib/python3.7/dist-packages (from pandas>=1.0->open3D) (2018.9)\n",
            "Requirement already satisfied: six>=1.9.0 in /usr/local/lib/python3.7/dist-packages (from prompt-toolkit<2.0.0,>=1.0.4->ipython->jupyterlab==3.*,>=3.0.0->open3D) (1.15.0)\n",
            "Requirement already satisfied: wcwidth in /usr/local/lib/python3.7/dist-packages (from prompt-toolkit<2.0.0,>=1.0.4->ipython->jupyterlab==3.*,>=3.0.0->open3D) (0.2.5)\n",
            "Requirement already satisfied: joblib>=0.11 in /usr/local/lib/python3.7/dist-packages (from scikit-learn>=0.21->open3D) (1.1.0)\n",
            "Requirement already satisfied: scipy>=1.1.0 in /usr/local/lib/python3.7/dist-packages (from scikit-learn>=0.21->open3D) (1.4.1)\n",
            "Requirement already satisfied: threadpoolctl>=2.0.0 in /usr/local/lib/python3.7/dist-packages (from scikit-learn>=0.21->open3D) (3.0.0)\n",
            "Requirement already satisfied: ptyprocess in /usr/local/lib/python3.7/dist-packages (from terminado>=0.8.3->jupyter-server~=1.4->jupyterlab==3.*,>=3.0.0->open3D) (0.7.0)\n",
            "Requirement already satisfied: argon2-cffi-bindings in /usr/local/lib/python3.7/dist-packages (from argon2-cffi->jupyter-server~=1.4->jupyterlab==3.*,>=3.0.0->open3D) (21.2.0)\n",
            "Requirement already satisfied: cffi>=1.0.1 in /usr/local/lib/python3.7/dist-packages (from argon2-cffi-bindings->argon2-cffi->jupyter-server~=1.4->jupyterlab==3.*,>=3.0.0->open3D) (1.15.0)\n",
            "Requirement already satisfied: pycparser in /usr/local/lib/python3.7/dist-packages (from cffi>=1.0.1->argon2-cffi-bindings->argon2-cffi->jupyter-server~=1.4->jupyterlab==3.*,>=3.0.0->open3D) (2.21)\n",
            "Requirement already satisfied: bleach in /usr/local/lib/python3.7/dist-packages (from nbconvert->jupyter-server~=1.4->jupyterlab==3.*,>=3.0.0->open3D) (4.1.0)\n",
            "Requirement already satisfied: pandocfilters>=1.4.1 in /usr/local/lib/python3.7/dist-packages (from nbconvert->jupyter-server~=1.4->jupyterlab==3.*,>=3.0.0->open3D) (1.5.0)\n",
            "Requirement already satisfied: mistune<2,>=0.8.1 in /usr/local/lib/python3.7/dist-packages (from nbconvert->jupyter-server~=1.4->jupyterlab==3.*,>=3.0.0->open3D) (0.8.4)\n",
            "Requirement already satisfied: defusedxml in /usr/local/lib/python3.7/dist-packages (from nbconvert->jupyter-server~=1.4->jupyterlab==3.*,>=3.0.0->open3D) (0.7.1)\n",
            "Requirement already satisfied: testpath in /usr/local/lib/python3.7/dist-packages (from nbconvert->jupyter-server~=1.4->jupyterlab==3.*,>=3.0.0->open3D) (0.5.0)\n",
            "Requirement already satisfied: webencodings in /usr/local/lib/python3.7/dist-packages (from bleach->nbconvert->jupyter-server~=1.4->jupyterlab==3.*,>=3.0.0->open3D) (0.5.1)\n",
            "Requirement already satisfied: urllib3!=1.25.0,!=1.25.1,<1.26,>=1.21.1 in /usr/local/lib/python3.7/dist-packages (from requests->jupyterlab-server~=2.3->jupyterlab==3.*,>=3.0.0->open3D) (1.24.3)\n",
            "Requirement already satisfied: chardet<4,>=3.0.2 in /usr/local/lib/python3.7/dist-packages (from requests->jupyterlab-server~=2.3->jupyterlab==3.*,>=3.0.0->open3D) (3.0.4)\n",
            "Requirement already satisfied: certifi>=2017.4.17 in /usr/local/lib/python3.7/dist-packages (from requests->jupyterlab-server~=2.3->jupyterlab==3.*,>=3.0.0->open3D) (2021.10.8)\n",
            "Requirement already satisfied: PyOpenGL in /usr/local/lib/python3.7/dist-packages (3.1.5)\n",
            "Requirement already satisfied: PyOpenGL_accelerate in /usr/local/lib/python3.7/dist-packages (3.1.5)\n",
            "Collecting git+https://github.com/facebookresearch/pytorch3d.git@stable\n",
            "  Cloning https://github.com/facebookresearch/pytorch3d.git (to revision stable) to /tmp/pip-req-build-hfptthpt\n",
            "  Running command git clone -q https://github.com/facebookresearch/pytorch3d.git /tmp/pip-req-build-hfptthpt\n",
            "  Running command git checkout -q 3fc3ea507bfbf7e1c2d5023a6db202698206f91d\n",
            "Collecting fvcore\n",
            "  Using cached fvcore-0.1.5.post20211023.tar.gz (49 kB)\n",
            "Collecting iopath\n",
            "  Using cached iopath-0.1.9-py3-none-any.whl (27 kB)\n",
            "Requirement already satisfied: numpy in /usr/local/lib/python3.7/dist-packages (from fvcore->pytorch3d==0.6.1) (1.19.5)\n",
            "Collecting yacs>=0.1.6\n",
            "  Using cached yacs-0.1.8-py3-none-any.whl (14 kB)\n",
            "Requirement already satisfied: pyyaml>=5.1 in /usr/local/lib/python3.7/dist-packages (from fvcore->pytorch3d==0.6.1) (6.0)\n",
            "Requirement already satisfied: tqdm in /usr/local/lib/python3.7/dist-packages (from fvcore->pytorch3d==0.6.1) (4.62.3)\n",
            "Requirement already satisfied: termcolor>=1.1 in /usr/local/lib/python3.7/dist-packages (from fvcore->pytorch3d==0.6.1) (1.1.0)\n",
            "Requirement already satisfied: Pillow in /usr/local/lib/python3.7/dist-packages (from fvcore->pytorch3d==0.6.1) (9.0.0)\n",
            "Requirement already satisfied: tabulate in /usr/local/lib/python3.7/dist-packages (from fvcore->pytorch3d==0.6.1) (0.8.9)\n",
            "Collecting portalocker\n",
            "  Using cached portalocker-2.3.2-py2.py3-none-any.whl (15 kB)\n",
            "Building wheels for collected packages: pytorch3d, fvcore\n",
            "  Building wheel for pytorch3d (setup.py) ... \u001b[?25l\u001b[?25hdone\n",
            "  Created wheel for pytorch3d: filename=pytorch3d-0.6.1-cp37-cp37m-linux_x86_64.whl size=23728433 sha256=4d269642e0bf64180040946e1f394ae9db2c64e53aba762e589299f76e8fd0c1\n",
            "  Stored in directory: /tmp/pip-ephem-wheel-cache-pkc2a7cr/wheels/4c/03/f0/326bb241eb86a155a12f217c81e163fbba48424bb84fa22074\n",
            "  Building wheel for fvcore (setup.py) ... \u001b[?25l\u001b[?25hdone\n",
            "  Created wheel for fvcore: filename=fvcore-0.1.5.post20211023-py3-none-any.whl size=60944 sha256=7ff6f1a559f4817cf2d93405241be7e281466e0a2619557a96f8eb9b9247cac2\n",
            "  Stored in directory: /root/.cache/pip/wheels/16/98/fc/252d62cab6263c719120e06b28f3378af59b52ce7a20e81852\n",
            "Successfully built pytorch3d fvcore\n",
            "Installing collected packages: portalocker, yacs, iopath, fvcore, pytorch3d\n",
            "Successfully installed fvcore-0.1.5.post20211023 iopath-0.1.9 portalocker-2.3.2 pytorch3d-0.6.1 yacs-0.1.8\n"
          ]
        }
      ]
    },
    {
      "cell_type": "code",
      "source": [
        "# converting the video into image frames\n",
        "import cv2\n",
        "import numpy as np\n",
        "import OpenGL\n",
        "# replace the file with another video\n",
        "vid_cap = cv2.VideoCapture(\"FigureSkater.mp4\") \n",
        "def getFrame(sec):\n",
        "    vid_cap.set(cv2.CAP_PROP_POS_MSEC,sec*1000)\n",
        "    has_frames,image = vid_cap.read()\n",
        "    if has_frames:\n",
        "        image = cv2.resize(image,(512,512))\n",
        "        cv2.imwrite(\"image\"+str(count)+\".jpg\", image)     # save frame as JPG file\n",
        "    return has_frames\n",
        "sec = 0\n",
        "frameRate = 0.7 #//it will capture image in each 0.5 second\n",
        "count=1\n",
        "success = getFrame(sec)\n",
        "while success:\n",
        "    count = count + 1\n",
        "    sec = sec + frameRate\n",
        "    sec = round(sec, 2)\n",
        "    success = getFrame(sec)\n",
        "print(count)"
      ],
      "metadata": {
        "id": "mmeN8F1aEkjy",
        "colab": {
          "base_uri": "https://localhost:8080/"
        },
        "outputId": "f41ada94-0185-43ac-ec34-958ea6e91858"
      },
      "execution_count": 2,
      "outputs": [
        {
          "output_type": "stream",
          "name": "stdout",
          "text": [
            "7\n"
          ]
        }
      ]
    },
    {
      "cell_type": "code",
      "source": [
        "# generating mask of the image using the primitive techniques openCV inbuilt functionns.\n",
        "for i in range(1,count):\n",
        "  image = cv2.imread(\"image\" + str(i)+ \".jpg\")\n",
        "  mask = np.zeros(image.shape[:2], dtype=\"uint8\")\n",
        "  gray = cv2.cvtColor(image, cv2.COLOR_BGR2GRAY)\n",
        "  mask = cv2.threshold(gray,220,220, cv2.THRESH_BINARY)[1]\n",
        "\n",
        "  # negate mask\n",
        "  mask = 255 - mask\n",
        "\n",
        "  # apply morphology to remove isolated extraneous noise\n",
        "  # use borderconstant of black since foreground touches the edges\n",
        "  kernel = np.ones((3,3), np.uint8)\n",
        "  mask = cv2.morphologyEx(mask, cv2.MORPH_OPEN, kernel)\n",
        "  mask = cv2.morphologyEx(mask, cv2.MORPH_CLOSE, kernel)\n",
        "\n",
        "  # anti-alias the mask -- blur then stretch\n",
        "  # blur alpha channel\n",
        "  mask = cv2.GaussianBlur(mask, (0,0), sigmaX=2, sigmaY=2, borderType = cv2.BORDER_DEFAULT)\n",
        "  mask = (2*(mask.astype(np.float32))-255.0).clip(0,255).astype(np.uint8)\n",
        "\n",
        "  # resize opencv windows\n",
        "  mask=cv2.resize(mask,(512,512))\n",
        "\n",
        "  cv2.imwrite(\"mask\"+str(i)+\".jpg\",mask)"
      ],
      "metadata": {
        "id": "_yNXZTExkUDs"
      },
      "execution_count": 3,
      "outputs": []
    },
    {
      "cell_type": "code",
      "source": [
        "import matplotlib.pyplot as plt\n",
        "image = cv2.imread(\"image3.jpg\")\n",
        "image = cv2.resize(image,(512,512))\n",
        "plt.figure()\n",
        "plt.imshow(image)\n",
        "print(image.shape)\n"
      ],
      "metadata": {
        "id": "o2IOoCC-FYd7",
        "colab": {
          "base_uri": "https://localhost:8080/",
          "height": 287
        },
        "outputId": "c58b692b-5820-4ca8-ae9e-a7d7e42130f1"
      },
      "execution_count": 4,
      "outputs": [
        {
          "output_type": "stream",
          "name": "stdout",
          "text": [
            "(512, 512, 3)\n"
          ]
        },
        {
          "output_type": "display_data",
          "data": {
            "image/png": "[encoded data removed]",
            "text/plain": [
              "<Figure size 432x288 with 1 Axes>"
            ]
          },
          "metadata": {
            "needs_background": "light"
          }
        }
      ]
    },
    {
      "cell_type": "markdown",
      "source": [
        "## Clone your repo from Github\n",
        "\n",
        "Now let's download your Github repo. This can be done using the steps below. "
      ],
      "metadata": {
        "id": "bJ0i0JNUWFsV"
      }
    },
    {
      "cell_type": "code",
      "source": [
        "# cloning the required repositories\n",
        "!git clone https://github.com/SiddhantSalvi/pifuhd.git\n",
        "!git clone https://github.com/SiddhantSalvi/PIFu.git\n",
        "!git clone https://github.com/Daniil-Osokin/lightweight-human-pose-estimation.pytorch.git\n"
      ],
      "metadata": {
        "id": "kunVjhbdTEGw",
        "colab": {
          "base_uri": "https://localhost:8080/"
        },
        "outputId": "0aa0dd3e-c558-4415-f0fa-be92b6d48054"
      },
      "execution_count": 5,
      "outputs": [
        {
          "output_type": "stream",
          "name": "stdout",
          "text": [
            "Cloning into 'pifuhd'...\n",
            "remote: Enumerating objects: 213, done.\u001b[K\n",
            "remote: Total 213 (delta 0), reused 0 (delta 0), pack-reused 213\u001b[K\n",
            "Receiving objects: 100% (213/213), 402.76 KiB | 13.42 MiB/s, done.\n",
            "Resolving deltas: 100% (104/104), done.\n",
            "Cloning into 'PIFu'...\n",
            "remote: Enumerating objects: 215, done.\u001b[K\n",
            "remote: Counting objects: 100% (8/8), done.\u001b[K\n",
            "remote: Compressing objects: 100% (8/8), done.\u001b[K\n",
            "remote: Total 215 (delta 2), reused 1 (delta 0), pack-reused 207\u001b[K\n",
            "Receiving objects: 100% (215/215), 2.43 MiB | 25.12 MiB/s, done.\n",
            "Resolving deltas: 100% (88/88), done.\n",
            "Cloning into 'lightweight-human-pose-estimation.pytorch'...\n",
            "remote: Enumerating objects: 120, done.\u001b[K\n",
            "remote: Counting objects: 100% (5/5), done.\u001b[K\n",
            "remote: Compressing objects: 100% (5/5), done.\u001b[K\n",
            "remote: Total 120 (delta 1), reused 0 (delta 0), pack-reused 115\u001b[K\n",
            "Receiving objects: 100% (120/120), 228.43 KiB | 8.79 MiB/s, done.\n",
            "Resolving deltas: 100% (50/50), done.\n"
          ]
        }
      ]
    },
    {
      "cell_type": "code",
      "source": [
        "# training the model using the pretained weights \n",
        "%cd /content/PIFu\n"
      ],
      "metadata": {
        "id": "9aI645e-9t55",
        "colab": {
          "base_uri": "https://localhost:8080/"
        },
        "outputId": "5f9b5787-7bc0-4936-fbf2-1660dd3a1b52"
      },
      "execution_count": 8,
      "outputs": [
        {
          "output_type": "stream",
          "name": "stdout",
          "text": [
            "/content/PIFu\n"
          ]
        }
      ]
    },
    {
      "cell_type": "code",
      "source": [
        "!sh ./scripts/download_trained_model.sh"
      ],
      "metadata": {
        "colab": {
          "base_uri": "https://localhost:8080/"
        },
        "id": "o27g4y5NsqRO",
        "outputId": "2454cd4b-5974-4b97-a31c-e25e8465b053"
      },
      "execution_count": 9,
      "outputs": [
        {
          "output_type": "stream",
          "name": "stdout",
          "text": [
            "+ mkdir -p checkpoints\n",
            "+ cd checkpoints\n",
            "+ wget https://drive.google.com/uc?export=download&id=1zEmVXG2VHy0MMzngcRshB4D8Sr_oLHsm -O net_G\n",
            "--2022-01-18 19:38:40--  https://drive.google.com/uc?export=download&id=1zEmVXG2VHy0MMzngcRshB4D8Sr_oLHsm\n",
            "Resolving drive.google.com (drive.google.com)... 74.125.142.102, 74.125.142.100, 74.125.142.101, ...\n",
            "Connecting to drive.google.com (drive.google.com)|74.125.142.102|:443... connected.\n",
            "HTTP request sent, awaiting response... 302 Moved Temporarily\n",
            "Location: https://doc-14-0o-docs.googleusercontent.com/docs/securesc/ha0ro937gcuc7l7deffksulhg5h7mbp1/eq08r4d5j5giif7o39e3mo8cge99al8i/1642534650000/14428417455748421393/*/1zEmVXG2VHy0MMzngcRshB4D8Sr_oLHsm?e=download [following]\n",
            "Warning: wildcards not supported in HTTP.\n",
            "--2022-01-18 19:38:41--  https://doc-14-0o-docs.googleusercontent.com/docs/securesc/ha0ro937gcuc7l7deffksulhg5h7mbp1/eq08r4d5j5giif7o39e3mo8cge99al8i/1642534650000/14428417455748421393/*/1zEmVXG2VHy0MMzngcRshB4D8Sr_oLHsm?e=download\n",
            "Resolving doc-14-0o-docs.googleusercontent.com (doc-14-0o-docs.googleusercontent.com)... 74.125.142.132, 2607:f8b0:400e:c08::84\n",
            "Connecting to doc-14-0o-docs.googleusercontent.com (doc-14-0o-docs.googleusercontent.com)|74.125.142.132|:443... connected.\n",
            "HTTP request sent, awaiting response... 200 OK\n",
            "Length: 62510909 (60M) [application/octet-stream]\n",
            "Saving to: ‘net_G’\n",
            "\n",
            "net_G               100%[===================>]  59.61M   210MB/s    in 0.3s    \n",
            "\n",
            "2022-01-18 19:38:41 (210 MB/s) - ‘net_G’ saved [62510909/62510909]\n",
            "\n",
            "+ wget https://drive.google.com/uc?export=download&id=1V83B6GDIjYMfHdpg-KcCSAPgHxpafHgd -O net_C\n",
            "--2022-01-18 19:38:41--  https://drive.google.com/uc?export=download&id=1V83B6GDIjYMfHdpg-KcCSAPgHxpafHgd\n",
            "Resolving drive.google.com (drive.google.com)... 74.125.142.102, 74.125.142.100, 74.125.142.101, ...\n",
            "Connecting to drive.google.com (drive.google.com)|74.125.142.102|:443... connected.\n",
            "HTTP request sent, awaiting response... 302 Moved Temporarily\n",
            "Location: https://doc-00-0o-docs.googleusercontent.com/docs/securesc/ha0ro937gcuc7l7deffksulhg5h7mbp1/p6hf23p0ssj9bm8pl7vr3omg379uh85d/1642534650000/14428417455748421393/*/1V83B6GDIjYMfHdpg-KcCSAPgHxpafHgd?e=download [following]\n",
            "Warning: wildcards not supported in HTTP.\n",
            "--2022-01-18 19:38:43--  https://doc-00-0o-docs.googleusercontent.com/docs/securesc/ha0ro937gcuc7l7deffksulhg5h7mbp1/p6hf23p0ssj9bm8pl7vr3omg379uh85d/1642534650000/14428417455748421393/*/1V83B6GDIjYMfHdpg-KcCSAPgHxpafHgd?e=download\n",
            "Resolving doc-00-0o-docs.googleusercontent.com (doc-00-0o-docs.googleusercontent.com)... 74.125.142.132, 2607:f8b0:400e:c08::84\n",
            "Connecting to doc-00-0o-docs.googleusercontent.com (doc-00-0o-docs.googleusercontent.com)|74.125.142.132|:443... connected.\n",
            "HTTP request sent, awaiting response... 200 OK\n",
            "Length: 36570643 (35M) [application/octet-stream]\n",
            "Saving to: ‘net_C’\n",
            "\n",
            "net_C               100%[===================>]  34.88M   113MB/s    in 0.3s    \n",
            "\n",
            "2022-01-18 19:38:44 (113 MB/s) - ‘net_C’ saved [36570643/36570643]\n",
            "\n",
            "+ cd ..\n"
          ]
        }
      ]
    },
    {
      "cell_type": "code",
      "source": [
        "# writing the directory of the images to test the image frames!\n",
        "# if using different video, will have to write the same lines below, for all the images to be tested\n",
        "!python3 /content/PIFu/apps/crop_img.py -i /content/image1.jpg -m /content/mask1.jpg -o /content/PIFu/sample_images/ \n",
        "!python3 /content/PIFu/apps/crop_img.py -i /content/image2.jpg -m /content/mask2.jpg -o /content/PIFu/sample_images/\n",
        "!python3 /content/PIFu/apps/crop_img.py -i /content/image3.jpg -m /content/mask3.jpg -o /content/PIFu/sample_images/\n",
        "!python3 /content/PIFu/apps/crop_img.py -i /content/image4.jpg -m /content/mask4.jpg -o /content/PIFu/sample_images/\n",
        "!python3 /content/PIFu/apps/crop_img.py -i /content/image5.jpg -m /content/mask5.jpg -o /content/PIFu/sample_images/\n",
        "!python3 /content/PIFu/apps/crop_img.py -i /content/image6.jpg -m /content/mask6.jpg -o /content/PIFu/sample_images/\n",
        "#!python3 /content/PIFu/apps/crop_img.py -i /content/image7.jpg -m /content/mask7.jpg -o /content/PIFu/sample_images/\n",
        "#!python3 /content/PIFu/apps/crop_img.py -i /content/image8.jpg -m /content/mask8.jpg -o /content/PIFu/sample_images/\n",
        "#!python3 /content/PIFu/apps/crop_img.py -i /content/image9.jpg -m /content/mask9.jpg -o /content/PIFu/sample_images/"
      ],
      "metadata": {
        "id": "Rj3qvWAL9uk5"
      },
      "execution_count": 12,
      "outputs": []
    },
    {
      "cell_type": "code",
      "source": [
        "# running this cell generates the object files of the images given as input to the previous cell\n",
        "# the results are stored in the PIFu/result/folder\n",
        "\n",
        "!sh ./scripts/test.sh"
      ],
      "metadata": {
        "id": "n3-ozlEW9uoH",
        "colab": {
          "base_uri": "https://localhost:8080/"
        },
        "outputId": "3493d50e-e011-444e-a858-bde1814afa93"
      },
      "execution_count": 13,
      "outputs": [
        {
          "output_type": "stream",
          "name": "stdout",
          "text": [
            "+ GPU_ID=0\n",
            "+ DISPLAY_ID=10\n",
            "+ NAME=pifu_demo\n",
            "+ BATCH_SIZE=1\n",
            "+ MLP_DIM=257 1024 512 256 128 1\n",
            "+ MLP_DIM_COLOR=513 1024 512 256 128 3\n",
            "+ VOL_RES=256\n",
            "+ CHECKPOINTS_NETG_PATH=./checkpoints/net_G\n",
            "+ CHECKPOINTS_NETC_PATH=./checkpoints/net_C\n",
            "+ TEST_FOLDER_PATH=./sample_images\n",
            "+ CUDA_VISIBLE_DEVICES=0 python ./apps/eval.py --name pifu_demo --batch_size 1 --mlp_dim 257 1024 512 256 128 1 --mlp_dim_color 513 1024 512 256 128 3 --num_stack 4 --num_hourglass 2 --resolution 256 --hg_down ave_pool --norm group --norm_color group --test_folder_path ./sample_images --load_netG_checkpoint_path ./checkpoints/net_G --load_netC_checkpoint_path ./checkpoints/net_C\n",
            "initialize network with normal\n",
            "Using Network:  hgpifu\n",
            "loading for net C ... ./checkpoints/net_C\n",
            "initialize network with normal\n",
            "num;  7\n",
            "0it [00:00, ?it/s]./sample_images/image1.png ./sample_images/image1_mask.png\n",
            "/content/PIFu/lib/mesh_util.py:45: FutureWarning: marching_cubes_lewiner is deprecated in favor of marching_cubes. marching_cubes_lewiner will be removed in version 0.19\n",
            "  verts, faces, normals, values = measure.marching_cubes_lewiner(sdf, 0.5)\n",
            "1it [00:13, 13.13s/it]./sample_images/ryota.png ./sample_images/ryota_mask.png\n",
            "2it [00:19,  9.26s/it]./sample_images/image2.png ./sample_images/image2_mask.png\n",
            "3it [00:30,  9.78s/it]./sample_images/image6.png ./sample_images/image6_mask.png\n",
            "4it [00:41, 10.24s/it]./sample_images/image3.png ./sample_images/image3_mask.png\n",
            "5it [00:50, 10.11s/it]./sample_images/image4.png ./sample_images/image4_mask.png\n",
            "6it [01:00, 10.03s/it]./sample_images/image5.png ./sample_images/image5_mask.png\n",
            "7it [01:11, 10.21s/it]\n"
          ]
        }
      ]
    },
    {
      "cell_type": "code",
      "source": [
        "# This cell takes approximately 20 mins to run\n",
        "#pytorch3D for 3D model generation\n",
        "!pip install 'git+https://github.com/facebookresearch/pytorch3d.git@stable'"
      ],
      "metadata": {
        "colab": {
          "base_uri": "https://localhost:8080/"
        },
        "id": "9nC2UruLtzXX",
        "outputId": "dc0442f8-180d-477d-cd4e-7907c915443e"
      },
      "execution_count": 15,
      "outputs": [
        {
          "output_type": "stream",
          "name": "stdout",
          "text": [
            "Collecting git+https://github.com/facebookresearch/pytorch3d.git@stable\n",
            "  Cloning https://github.com/facebookresearch/pytorch3d.git (to revision stable) to /tmp/pip-req-build-dd8r84u5\n",
            "  Running command git clone -q https://github.com/facebookresearch/pytorch3d.git /tmp/pip-req-build-dd8r84u5\n",
            "  Running command git checkout -q 3fc3ea507bfbf7e1c2d5023a6db202698206f91d\n",
            "Collecting fvcore\n",
            "  Downloading fvcore-0.1.5.post20211023.tar.gz (49 kB)\n",
            "\u001b[K     |████████████████████████████████| 49 kB 3.7 MB/s \n",
            "\u001b[?25hCollecting iopath\n",
            "  Downloading iopath-0.1.9-py3-none-any.whl (27 kB)\n",
            "Requirement already satisfied: numpy in /usr/local/lib/python3.7/dist-packages (from fvcore->pytorch3d==0.6.1) (1.19.5)\n",
            "Collecting yacs>=0.1.6\n",
            "  Downloading yacs-0.1.8-py3-none-any.whl (14 kB)\n",
            "Collecting pyyaml>=5.1\n",
            "  Downloading PyYAML-6.0-cp37-cp37m-manylinux_2_5_x86_64.manylinux1_x86_64.manylinux_2_12_x86_64.manylinux2010_x86_64.whl (596 kB)\n",
            "\u001b[K     |████████████████████████████████| 596 kB 14.7 MB/s \n",
            "\u001b[?25hRequirement already satisfied: tqdm in /usr/local/lib/python3.7/dist-packages (from fvcore->pytorch3d==0.6.1) (4.62.3)\n",
            "Requirement already satisfied: termcolor>=1.1 in /usr/local/lib/python3.7/dist-packages (from fvcore->pytorch3d==0.6.1) (1.1.0)\n",
            "Requirement already satisfied: Pillow in /usr/local/lib/python3.7/dist-packages (from fvcore->pytorch3d==0.6.1) (7.1.2)\n",
            "Requirement already satisfied: tabulate in /usr/local/lib/python3.7/dist-packages (from fvcore->pytorch3d==0.6.1) (0.8.9)\n",
            "Collecting portalocker\n",
            "  Downloading portalocker-2.3.2-py2.py3-none-any.whl (15 kB)\n",
            "Building wheels for collected packages: pytorch3d, fvcore\n",
            "  Building wheel for pytorch3d (setup.py) ... \u001b[?25l\u001b[?25hdone\n",
            "  Created wheel for pytorch3d: filename=pytorch3d-0.6.1-cp37-cp37m-linux_x86_64.whl size=30536233 sha256=91d6baca5c6662ac8c490e6e9bb30a099741212845efbc1728111e45896de610\n",
            "  Stored in directory: /tmp/pip-ephem-wheel-cache-egemz2bp/wheels/4c/03/f0/326bb241eb86a155a12f217c81e163fbba48424bb84fa22074\n",
            "  Building wheel for fvcore (setup.py) ... \u001b[?25l\u001b[?25hdone\n",
            "  Created wheel for fvcore: filename=fvcore-0.1.5.post20211023-py3-none-any.whl size=60944 sha256=0275d5f5a6d506b18594a2352506191dafd9fa05d79c8bb912d87a5e00030ad1\n",
            "  Stored in directory: /root/.cache/pip/wheels/16/98/fc/252d62cab6263c719120e06b28f3378af59b52ce7a20e81852\n",
            "Successfully built pytorch3d fvcore\n",
            "Installing collected packages: pyyaml, portalocker, yacs, iopath, fvcore, pytorch3d\n",
            "  Attempting uninstall: pyyaml\n",
            "    Found existing installation: PyYAML 3.13\n",
            "    Uninstalling PyYAML-3.13:\n",
            "      Successfully uninstalled PyYAML-3.13\n",
            "Successfully installed fvcore-0.1.5.post20211023 iopath-0.1.9 portalocker-2.3.2 pytorch3d-0.6.1 pyyaml-6.0 yacs-0.1.8\n"
          ]
        }
      ]
    },
    {
      "cell_type": "code",
      "source": [
        "# running this cell would produce the output generated using PIFu.\n",
        "# a rendered video is displayed.\n",
        "from lib.colab_util import *\n",
        "for i in range(1,count):\n",
        "  obj_path = '/content/PIFu/results/pifu_demo/result_image'+str(i)+'.obj'\n",
        "  video_path = '/content/PIFu/results/pifu_demo/result_image'+str(i)+'.mp4'\n",
        "  video_display_path = '/content/PIFu/results/pifu_demo/result_image'+str(i)+'_display.mp4'\n",
        "\n",
        "  renderer = set_renderer()\n",
        "  generate_video_from_obj(obj_path, video_path, renderer)\n",
        "\n",
        "# we cannot play a mp4 video generated by cv2\n",
        "  !ffmpeg -i $video_path -vcodec libx264 $video_display_path -y -loglevel quiet\n",
        "  video(video_display_path)"
      ],
      "metadata": {
        "id": "OIo_orWe9urF",
        "colab": {
          "base_uri": "https://localhost:8080/",
          "height": 209,
          "referenced_widgets": [
            "3894fb3845da41a990e28317673c69ab",
            "2b99703bec7246969787b618d8efe2ca",
            "84cf39a2ef45430ba1f7a037d739cf59",
            "f4e837aae7384bbbbeb495ca6842bb9f",
            "4c0156c400654173b726778924cb7809",
            "5f297660e45a46bfa4a4cd6d4034c9c1",
            "9182c1f779c6449d9c7b6ffa24989bd8",
            "687f9af03551468da7ebd324c3d247df",
            "09039dbec92645a6b204021d5e49d383",
            "99362a7083874938a1826e8abfb3d93d",
            "b92053d3a00b443cace241d128b5c193",
            "ccf98c5b6f484e23b94577e675bf75f8",
            "d4487defe936461f82d945b830bd1f1f",
            "26c27ddf630e481e8a9fd2ce7c84a0eb",
            "1171f822dd7143d283ad44556cfa99b4",
            "6e2be245c4ac41c5a04cb0d5775b8bcb",
            "4680d85125e740d182ea6163b86f9452",
            "6374a1c01d7e4b1aa9f79663cfbadbb0",
            "8b0b8e5a07ea472ba26d7db48b492158",
            "49fda567844b475796e9e11dcf4f45ec",
            "fcaa0eb16c1b4cf4b2dccd7859aeb970",
            "7561e297662e4f6dacfc8165e176349c",
            "cdeac595494e4ac683bd5529fcd0beac",
            "927a3055a4e643e4a984a9f71e96e70e",
            "70e7b4e0972c4846b956e69b136b87e3",
            "becd1b1894ec492e91eba60e09542e65",
            "ae8c37056f694b31817f70e21be973b9",
            "6dcf3041efd84fa0852c4fe4b1046ff1",
            "25322ffd5a9f4274b26813ba93326357",
            "320172237ba840d5b098f48e0b5e9382",
            "d669cb4755ba4f389fb4712681b1c7bd",
            "96806e2ba8d14005886437e1abef7d19",
            "02d64d74ab7141fc988c237c57498a70",
            "fa86a61cba26491ca1aef45a0649902e",
            "8510bfd44fcf4c45944b2285209c0d5c",
            "a87d60428a7b4a93bda49b6ff6a33e1b",
            "7447e9e51c534ea185828bda09aae86a",
            "dca211cb54f948eca2d26e1c67ae1b60",
            "eacd4a4cbaba46c2993ea10239560523",
            "7f4633dfd8c24fae851b9a098e1d3b4e",
            "7a189800375e4c08b2f6304322b49938",
            "b504ab94ab5f4a389fb756493b752c09",
            "d51375d32704441c8338f59600c9ac00",
            "b3d0f3a179da4cc3be3dc5f7214b9e06",
            "2b005f0d1cef41d182ebdefba6681598",
            "1773763c7e744a4696eb013d3fedf689",
            "23a930cf49ce49518fc83a7841d6d1ab",
            "b0fa9408a04b4b31bbc7bb16ce48bf5e",
            "27dca351981949e9a91a2d8f4d833d13",
            "c772593600654fb2960b23094334a333",
            "67deb3454d8e40a0946887ebdefc8c4c",
            "904c0f4f177d416a95cea392aee93534",
            "8419c7b99ee04093a509e70e61dc2b4c",
            "be2733581b8e4125a8f6fb5cce1d8960",
            "0805a122ec2146e2900f1fdbab4aa967",
            "1628bf5b50e64e8cb3ccd59f62b93766",
            "c21f85b4bf754456a868df6a797b083a",
            "245c2dc844dc4e599ce8d1b01f9ee218",
            "a14c6b83981c467aadc1f9bbdc4ab589",
            "db8474b0c00e4f4284efb85cf96468ec",
            "e6f6843cbb184a2d8542056de0520e58",
            "27ad87ad1b9a461da55f7c84193481d5",
            "9f62b77c9ec8430ab69dbab90279e295",
            "16cc491c105443bab5e6a2f11c193416",
            "3cf44719e0004d14aea442dae8f96dc5",
            "74aa707a63b84b169892b6987b96b4ea"
          ]
        },
        "outputId": "0240364c-8e20-4d04-9011-3f34d2292586"
      },
      "execution_count": 16,
      "outputs": [
        {
          "output_type": "display_data",
          "data": {
            "application/vnd.jupyter.widget-view+json": {
              "model_id": "3894fb3845da41a990e28317673c69ab",
              "version_minor": 0,
              "version_major": 2
            },
            "text/plain": [
              "  0%|          | 0/90 [00:00<?, ?it/s]"
            ]
          },
          "metadata": {}
        },
        {
          "output_type": "display_data",
          "data": {
            "application/vnd.jupyter.widget-view+json": {
              "model_id": "ccf98c5b6f484e23b94577e675bf75f8",
              "version_minor": 0,
              "version_major": 2
            },
            "text/plain": [
              "  0%|          | 0/90 [00:00<?, ?it/s]"
            ]
          },
          "metadata": {}
        },
        {
          "output_type": "display_data",
          "data": {
            "application/vnd.jupyter.widget-view+json": {
              "model_id": "cdeac595494e4ac683bd5529fcd0beac",
              "version_minor": 0,
              "version_major": 2
            },
            "text/plain": [
              "  0%|          | 0/90 [00:00<?, ?it/s]"
            ]
          },
          "metadata": {}
        },
        {
          "output_type": "display_data",
          "data": {
            "application/vnd.jupyter.widget-view+json": {
              "model_id": "fa86a61cba26491ca1aef45a0649902e",
              "version_minor": 0,
              "version_major": 2
            },
            "text/plain": [
              "  0%|          | 0/90 [00:00<?, ?it/s]"
            ]
          },
          "metadata": {}
        },
        {
          "output_type": "display_data",
          "data": {
            "application/vnd.jupyter.widget-view+json": {
              "model_id": "2b005f0d1cef41d182ebdefba6681598",
              "version_minor": 0,
              "version_major": 2
            },
            "text/plain": [
              "  0%|          | 0/90 [00:00<?, ?it/s]"
            ]
          },
          "metadata": {}
        },
        {
          "output_type": "display_data",
          "data": {
            "application/vnd.jupyter.widget-view+json": {
              "model_id": "1628bf5b50e64e8cb3ccd59f62b93766",
              "version_minor": 0,
              "version_major": 2
            },
            "text/plain": [
              "  0%|          | 0/90 [00:00<?, ?it/s]"
            ]
          },
          "metadata": {}
        }
      ]
    },
    {
      "cell_type": "code",
      "source": [
        ""
      ],
      "metadata": {
        "id": "nobXfJ35meNZ"
      },
      "execution_count": null,
      "outputs": []
    },
    {
      "cell_type": "code",
      "source": [
        "# improving the results using PIFu HD as it uses multilevel pixel allignment technique over PIFu!\n",
        "# the code is as follows:"
      ],
      "metadata": {
        "id": "RZv5cZq19uts"
      },
      "execution_count": 17,
      "outputs": []
    },
    {
      "cell_type": "code",
      "source": [
        "cd /content/pifuhd/sample_images"
      ],
      "metadata": {
        "id": "lwSSBJSp9uwd",
        "colab": {
          "base_uri": "https://localhost:8080/"
        },
        "outputId": "9293e92b-198c-4c6a-ac8e-8710825b571d"
      },
      "execution_count": 18,
      "outputs": [
        {
          "output_type": "stream",
          "name": "stdout",
          "text": [
            "/content/pifuhd/sample_images\n"
          ]
        }
      ]
    },
    {
      "cell_type": "code",
      "source": [
        "import os\n",
        "\n",
        "try:\n",
        "  image_path = '/content/PIFu/sample_images/image1.png'#'/content/pifuhd/sample_images/image1.jpg' #% image1.jpg or other image frames can be included one at a time\n",
        "except:\n",
        "  image_path = '/content/pifuhd/sample_images/test.png' # example image\n",
        "image_dir = os.path.dirname(image_path)\n",
        "file_name = os.path.splitext(os.path.basename(image_path))[0]\n",
        "\n",
        "# output pathes\n",
        "obj_path = '/content/pifuhd/results/pifuhd_final/recon/result_%s_256.obj' % file_name\n",
        "out_img_path = '/content/pifuhd/results/pifuhd_final/recon/result_%s_256.png' % file_name\n",
        "video_path = '/content/pifuhd/results/pifuhd_final/recon/result_%s_256.mp4' % file_name\n",
        "video_display_path = '/content/pifuhd/results/pifuhd_final/result_%s_256_display.mp4' % file_name\n"
      ],
      "metadata": {
        "id": "UMvL40no9uzO"
      },
      "execution_count": 25,
      "outputs": []
    },
    {
      "cell_type": "code",
      "source": [
        "cd /content"
      ],
      "metadata": {
        "id": "ioTl8rn79u2M",
        "colab": {
          "base_uri": "https://localhost:8080/"
        },
        "outputId": "1f643bee-5ba5-42b4-9208-ea2d6d9c6a42"
      },
      "execution_count": 26,
      "outputs": [
        {
          "output_type": "stream",
          "name": "stdout",
          "text": [
            "/content\n"
          ]
        }
      ]
    },
    {
      "cell_type": "code",
      "source": [
        "cd /content/lightweight-human-pose-estimation.pytorch/"
      ],
      "metadata": {
        "id": "tnI_3Dqv9u5c",
        "colab": {
          "base_uri": "https://localhost:8080/"
        },
        "outputId": "c9252c75-b260-45f8-a9b7-27bf051ca714"
      },
      "execution_count": 27,
      "outputs": [
        {
          "output_type": "stream",
          "name": "stdout",
          "text": [
            "/content/lightweight-human-pose-estimation.pytorch\n"
          ]
        }
      ]
    },
    {
      "cell_type": "code",
      "source": [
        "!wget https://download.01.org/opencv/openvino_training_extensions/models/human_pose_estimation/checkpoint_iter_370000.pth"
      ],
      "metadata": {
        "id": "Qwf2zlpW9u7h",
        "colab": {
          "base_uri": "https://localhost:8080/"
        },
        "outputId": "620d19e0-70c4-4bdc-e17d-db26b30ff0c4"
      },
      "execution_count": 28,
      "outputs": [
        {
          "output_type": "stream",
          "name": "stdout",
          "text": [
            "--2022-01-18 20:16:50--  https://download.01.org/opencv/openvino_training_extensions/models/human_pose_estimation/checkpoint_iter_370000.pth\n",
            "Resolving download.01.org (download.01.org)... 104.65.185.105, 2600:1409:9800:a85::4b21, 2600:1409:9800:a92::4b21\n",
            "Connecting to download.01.org (download.01.org)|104.65.185.105|:443... connected.\n",
            "HTTP request sent, awaiting response... 200 OK\n",
            "Length: 87959810 (84M) [application/octet-stream]\n",
            "Saving to: ‘checkpoint_iter_370000.pth.1’\n",
            "\n",
            "checkpoint_iter_370 100%[===================>]  83.88M   150MB/s    in 0.6s    \n",
            "\n",
            "2022-01-18 20:16:50 (150 MB/s) - ‘checkpoint_iter_370000.pth.1’ saved [87959810/87959810]\n",
            "\n"
          ]
        }
      ]
    },
    {
      "cell_type": "code",
      "source": [
        "# detecting the keypoints in the images to generate the 3D models\n",
        "import torch\n",
        "import cv2\n",
        "import numpy as np\n",
        "from models.with_mobilenet import PoseEstimationWithMobileNet\n",
        "from modules.keypoints import extract_keypoints, group_keypoints\n",
        "from modules.load_state import load_state\n",
        "from modules.pose import Pose, track_poses\n",
        "import demo\n",
        "\n",
        "def get_rect(net, images, height_size):\n",
        "    net = net.eval()\n",
        "\n",
        "    stride = 8\n",
        "    upsample_ratio = 4\n",
        "    num_keypoints = Pose.num_kpts\n",
        "    previous_poses = []\n",
        "    delay = 33\n",
        "    for image in images:\n",
        "        rect_path = image.replace('.%s' % (image.split('.')[-1]), '_rect.txt')\n",
        "        img = cv2.imread(image, cv2.IMREAD_COLOR)\n",
        "        orig_img = img.copy()\n",
        "        orig_img = img.copy()\n",
        "        heatmaps, pafs, scale, pad = demo.infer_fast(net, img, height_size, stride, upsample_ratio, cpu=False)\n",
        "\n",
        "        total_keypoints_num = 0\n",
        "        all_keypoints_by_type = []\n",
        "        for kpt_idx in range(num_keypoints):  # 19th for bg\n",
        "            total_keypoints_num += extract_keypoints(heatmaps[:, :, kpt_idx], all_keypoints_by_type, total_keypoints_num)\n",
        "\n",
        "        pose_entries, all_keypoints = group_keypoints(all_keypoints_by_type, pafs)\n",
        "        for kpt_id in range(all_keypoints.shape[0]):\n",
        "            all_keypoints[kpt_id, 0] = (all_keypoints[kpt_id, 0] * stride / upsample_ratio - pad[1]) / scale\n",
        "            all_keypoints[kpt_id, 1] = (all_keypoints[kpt_id, 1] * stride / upsample_ratio - pad[0]) / scale\n",
        "        current_poses = []\n",
        "\n",
        "        rects = []\n",
        "        for n in range(len(pose_entries)):\n",
        "            if len(pose_entries[n]) == 0:\n",
        "                continue\n",
        "            pose_keypoints = np.ones((num_keypoints, 2), dtype=np.int32) * -1\n",
        "            valid_keypoints = []\n",
        "            for kpt_id in range(num_keypoints):\n",
        "                if pose_entries[n][kpt_id] != -1.0:  # keypoint was found\n",
        "                    pose_keypoints[kpt_id, 0] = int(all_keypoints[int(pose_entries[n][kpt_id]), 0])\n",
        "                    pose_keypoints[kpt_id, 1] = int(all_keypoints[int(pose_entries[n][kpt_id]), 1])\n",
        "                    valid_keypoints.append([pose_keypoints[kpt_id, 0], pose_keypoints[kpt_id, 1]])\n",
        "            valid_keypoints = np.array(valid_keypoints)\n",
        "            \n",
        "            if pose_entries[n][10] != -1.0 or pose_entries[n][13] != -1.0:\n",
        "              pmin = valid_keypoints.min(0)\n",
        "              pmax = valid_keypoints.max(0)\n",
        "\n",
        "              center = (0.5 * (pmax[:2] + pmin[:2])).astype(np.int)\n",
        "              radius = int(0.65 * max(pmax[0]-pmin[0], pmax[1]-pmin[1]))\n",
        "            elif pose_entries[n][10] == -1.0 and pose_entries[n][13] == -1.0 and pose_entries[n][8] != -1.0 and pose_entries[n][11] != -1.0:\n",
        "              # if leg is missing, use pelvis to get cropping\n",
        "              center = (0.5 * (pose_keypoints[8] + pose_keypoints[11])).astype(np.int)\n",
        "              radius = int(1.45*np.sqrt(((center[None,:] - valid_keypoints)**2).sum(1)).max(0))\n",
        "              center[1] += int(0.05*radius)\n",
        "            else:\n",
        "              center = np.array([img.shape[1]//2,img.shape[0]//2])\n",
        "              radius = max(img.shape[1]//2,img.shape[0]//2)\n",
        "\n",
        "            x1 = center[0] - radius\n",
        "            y1 = center[1] - radius\n",
        "\n",
        "            rects.append([x1, y1, 2*radius, 2*radius])\n",
        "\n",
        "        np.savetxt(rect_path, np.array(rects), fmt='%d')"
      ],
      "metadata": {
        "id": "mhjDAu4D9u-H"
      },
      "execution_count": 29,
      "outputs": []
    },
    {
      "cell_type": "code",
      "source": [
        "net = PoseEstimationWithMobileNet()\n",
        "checkpoint = torch.load('checkpoint_iter_370000.pth', map_location='cpu')\n",
        "load_state(net, checkpoint)\n",
        "\n",
        "get_rect(net.cuda(), [image_path], 512)"
      ],
      "metadata": {
        "id": "rLxQSgyo9vBy"
      },
      "execution_count": 30,
      "outputs": []
    },
    {
      "cell_type": "code",
      "source": [
        "cd /content/pifuhd/"
      ],
      "metadata": {
        "id": "DIYphwo5nLhz",
        "colab": {
          "base_uri": "https://localhost:8080/"
        },
        "outputId": "5f449e51-fd3a-485d-9f9f-b01f06d40daa"
      },
      "execution_count": 31,
      "outputs": [
        {
          "output_type": "stream",
          "name": "stdout",
          "text": [
            "/content/pifuhd\n"
          ]
        }
      ]
    },
    {
      "cell_type": "code",
      "source": [
        "!sh ./scripts/download_trained_model.sh"
      ],
      "metadata": {
        "id": "zEMTJmQ5nLpG",
        "colab": {
          "base_uri": "https://localhost:8080/"
        },
        "outputId": "dd555bfa-3d72-4ad7-959f-55c211296cdb"
      },
      "execution_count": 32,
      "outputs": [
        {
          "output_type": "stream",
          "name": "stdout",
          "text": [
            "+ mkdir -p checkpoints\n",
            "+ cd checkpoints\n",
            "+ wget https://dl.fbaipublicfiles.com/pifuhd/checkpoints/pifuhd.pt pifuhd.pt\n",
            "--2022-01-18 20:17:04--  https://dl.fbaipublicfiles.com/pifuhd/checkpoints/pifuhd.pt\n",
            "Resolving dl.fbaipublicfiles.com (dl.fbaipublicfiles.com)... 104.22.74.142, 104.22.75.142, 172.67.9.4, ...\n",
            "Connecting to dl.fbaipublicfiles.com (dl.fbaipublicfiles.com)|104.22.74.142|:443... connected.\n",
            "HTTP request sent, awaiting response... 200 OK\n",
            "Length: 1548375177 (1.4G) [application/octet-stream]\n",
            "Saving to: ‘pifuhd.pt’\n",
            "\n",
            "pifuhd.pt           100%[===================>]   1.44G  48.6MB/s    in 30s     \n",
            "\n",
            "2022-01-18 20:17:35 (49.1 MB/s) - ‘pifuhd.pt’ saved [1548375177/1548375177]\n",
            "\n",
            "--2022-01-18 20:17:35--  http://pifuhd.pt/\n",
            "Resolving pifuhd.pt (pifuhd.pt)... failed: Name or service not known.\n",
            "wget: unable to resolve host address ‘pifuhd.pt’\n",
            "FINISHED --2022-01-18 20:17:35--\n",
            "Total wall clock time: 31s\n",
            "Downloaded: 1 files, 1.4G in 30s (49.1 MB/s)\n"
          ]
        }
      ]
    },
    {
      "cell_type": "code",
      "source": [
        "!python -m apps.simple_test -r 256 --use_rect -i $image_dir"
      ],
      "metadata": {
        "id": "mfHDkao8nRfz",
        "colab": {
          "base_uri": "https://localhost:8080/"
        },
        "outputId": "7c120791-7290-4121-c1e7-e93cfc45cfcf"
      },
      "execution_count": 33,
      "outputs": [
        {
          "output_type": "stream",
          "name": "stdout",
          "text": [
            "Resuming from  ./checkpoints/pifuhd.pt\n",
            "Warning: opt is overwritten.\n",
            "test data size:  1\n",
            "initialize network with normal\n",
            "initialize network with normal\n",
            "generate mesh (test) ...\n",
            "  0% 0/1 [00:00<?, ?it/s]./results/pifuhd_final/recon/result_image1_256.obj\n",
            "/content/pifuhd/lib/mesh_util.py:77: FutureWarning: marching_cubes_lewiner is deprecated in favor of marching_cubes. marching_cubes_lewiner will be removed in version 0.19\n",
            "  verts, faces, normals, values = measure.marching_cubes_lewiner(sdf, thresh)\n",
            "100% 1/1 [00:06<00:00,  6.83s/it]\n"
          ]
        }
      ]
    },
    {
      "cell_type": "markdown",
      "source": [
        "Most of the common ML libraries (PyTorch, numpy, TensorFlow, etc) should already be available. You can install other versions using pip as usual, e.g. `!pip install <library>`.\n",
        "\n",
        "You can also use `!cd <directory>` to get into a directory."
      ],
      "metadata": {
        "id": "vrE8W1e32NdS"
      }
    },
    {
      "cell_type": "markdown",
      "source": [
        "# Run your code\n",
        "\n",
        "Running your code is as simple as using the \"!\" operator in front of what you'd normally run locally. For instance, the below line assumes your main Python file is called `convert.py` and takes in as an argument the video file. You can then run:"
      ],
      "metadata": {
        "id": "9gI2BsYuUEgl"
      }
    },
    {
      "cell_type": "code",
      "source": [
        "# generates the output video\n",
        "# less noisy rendered output as compared to the base model.\n",
        "from lib.colab_util import *\n",
        "\n",
        "renderer = set_renderer()\n",
        "generate_video_from_obj(obj_path,  video_path, renderer)#out_img_path,\n",
        "\n",
        "# we cannot play a mp4 video generated by cv2\n",
        "!ffmpeg -i $video_path -vcodec libx264 $video_display_path -y -loglevel quiet\n",
        "video(video_display_path)"
      ],
      "metadata": {
        "id": "75Ueuyjq2FSe",
        "colab": {
          "base_uri": "https://localhost:8080/",
          "height": 303,
          "referenced_widgets": [
            "f6a06e2782b7427a8fe28f7e86be8040",
            "12b3a9d533eb4b2baf1039d7a8abf6dd",
            "8367193832e449608b9c91d044b540c9",
            "54310d39e29047899b99848eff16821d",
            "64ecb8d870ab443b9a5ea50388f42dfa",
            "ee9cb0c26d154c50bc7f627f7e951303",
            "c4d08bf53acc462d93e9af989b17c61a",
            "98f14b0a0d244f6f8085c85a8821fe45",
            "fd12e65425984e4fbb2cc57e0c39b17f",
            "7428d5c734464709b8528ba3475f9d3e",
            "2d12d81c09a14c259b1c6b5374672f63"
          ]
        },
        "outputId": "69d64842-6575-45c8-bd94-257806a0b25b"
      },
      "execution_count": 36,
      "outputs": [
        {
          "output_type": "display_data",
          "data": {
            "application/vnd.jupyter.widget-view+json": {
              "model_id": "f6a06e2782b7427a8fe28f7e86be8040",
              "version_minor": 0,
              "version_major": 2
            },
            "text/plain": [
              "  0%|          | 0/90 [00:00<?, ?it/s]"
            ]
          },
          "metadata": {}
        },
        {
          "output_type": "execute_result",
          "data": {
            "text/html": [
              "<video width=500 controls loop> <source src=\"data:video/mp4;base64,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\" type=\"video/mp4\"></video>"
            ],
            "text/plain": [
              "<IPython.core.display.HTML object>"
            ]
          },
          "metadata": {},
          "execution_count": 36
        }
      ]
    },
    {
      "cell_type": "markdown",
      "source": [
        "## Downloading results\n",
        "You can download any results from the left sidebar. Click the folder icon; the results saved here should be found in the `/content/` directory."
      ],
      "metadata": {
        "id": "KVov2waI3BiF"
      }
    }
  ]
}